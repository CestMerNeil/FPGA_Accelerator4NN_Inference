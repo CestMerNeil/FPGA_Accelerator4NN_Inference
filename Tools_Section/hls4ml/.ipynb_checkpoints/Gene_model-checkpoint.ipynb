{
 "cells": [
  {
   "cell_type": "markdown",
   "id": "db8c76db",
   "metadata": {},
   "source": [
    "# Hyperparamètre"
   ]
  },
  {
   "cell_type": "code",
   "execution_count": 1,
   "id": "e4306c38",
   "metadata": {
    "ExecuteTime": {
     "end_time": "2023-06-06T15:44:19.441494Z",
     "start_time": "2023-06-06T15:44:19.434081Z"
    }
   },
   "outputs": [],
   "source": [
    "train_keras = True\n",
    "train_qkeras =True\n",
    "model_name = 'AlexNet_Weights/AlexNet_Cifar10_Keras.h5'\n",
    "qmodel_name_8 = 'AlexNet_Weights/AlexNet_Cifar10_QKeras_8.h5'\n",
    "qmodel_name_16 = 'AlexNet_Weights/AlexNet_Cifar10_QKeras_16.h5'\n",
    "epochs = 300\n",
    "batch_size = 1024\n",
    "lr = 0.001\n",
    "log_dir_keras = 'AlexNet_Cifar10_LOG/Keras'\n",
    "log_dir_qkeras_8 = 'AlexNet_Cifar10_LOG/QKeras_8'\n",
    "log_dir_qkeras_16 = 'AlexNet_Cifar10_LOG/QKeras_16'"
   ]
  },
  {
   "cell_type": "markdown",
   "id": "2587a2cc",
   "metadata": {},
   "source": [
    "# Dataset Part"
   ]
  },
  {
   "cell_type": "code",
   "execution_count": 2,
   "id": "0222f187",
   "metadata": {
    "ExecuteTime": {
     "end_time": "2023-06-06T15:44:24.195544Z",
     "start_time": "2023-06-06T15:44:22.849335Z"
    }
   },
   "outputs": [
    {
     "name": "stderr",
     "output_type": "stream",
     "text": [
      "2023-06-13 17:38:30.832734: I tensorflow/stream_executor/platform/default/dso_loader.cc:53] Successfully opened dynamic library libcudart.so.11.0\n"
     ]
    }
   ],
   "source": [
    "import tensorflow as tf\n",
    "import keras\n",
    "import time\n",
    "from tensorflow.keras.optimizers import Adam\n",
    "from tensorflow.keras.datasets import cifar10\n",
    "from keras.preprocessing.image import ImageDataGenerator"
   ]
  },
  {
   "cell_type": "code",
   "execution_count": 3,
   "id": "32a0af7f",
   "metadata": {
    "ExecuteTime": {
     "end_time": "2023-06-06T15:44:25.672346Z",
     "start_time": "2023-06-06T15:44:25.664946Z"
    }
   },
   "outputs": [
    {
     "name": "stdout",
     "output_type": "stream",
     "text": [
      "PhysicalDevice(name='/physical_device:CPU:0', device_type='CPU')\n",
      "PhysicalDevice(name='/physical_device:GPU:0', device_type='GPU')\n"
     ]
    },
    {
     "name": "stderr",
     "output_type": "stream",
     "text": [
      "2023-06-13 17:38:32.394631: I tensorflow/stream_executor/platform/default/dso_loader.cc:53] Successfully opened dynamic library libcuda.so.1\n",
      "2023-06-13 17:38:32.466306: I tensorflow/stream_executor/cuda/cuda_gpu_executor.cc:937] successful NUMA node read from SysFS had negative value (-1), but there must be at least one NUMA node, so returning NUMA node zero\n",
      "2023-06-13 17:38:32.466661: I tensorflow/core/common_runtime/gpu/gpu_device.cc:1733] Found device 0 with properties: \n",
      "pciBusID: 0000:01:00.0 name: NVIDIA GeForce RTX 2080 Ti computeCapability: 7.5\n",
      "coreClock: 1.545GHz coreCount: 68 deviceMemorySize: 10.74GiB deviceMemoryBandwidth: 573.69GiB/s\n",
      "2023-06-13 17:38:32.466679: I tensorflow/stream_executor/platform/default/dso_loader.cc:53] Successfully opened dynamic library libcudart.so.11.0\n",
      "2023-06-13 17:38:32.475729: I tensorflow/stream_executor/platform/default/dso_loader.cc:53] Successfully opened dynamic library libcublas.so.11\n",
      "2023-06-13 17:38:32.475769: I tensorflow/stream_executor/platform/default/dso_loader.cc:53] Successfully opened dynamic library libcublasLt.so.11\n",
      "2023-06-13 17:38:32.490957: I tensorflow/stream_executor/platform/default/dso_loader.cc:53] Successfully opened dynamic library libcufft.so.10\n",
      "2023-06-13 17:38:32.493838: I tensorflow/stream_executor/platform/default/dso_loader.cc:53] Successfully opened dynamic library libcurand.so.10\n",
      "2023-06-13 17:38:32.502386: I tensorflow/stream_executor/platform/default/dso_loader.cc:53] Successfully opened dynamic library libcusolver.so.11\n",
      "2023-06-13 17:38:32.505209: I tensorflow/stream_executor/platform/default/dso_loader.cc:53] Successfully opened dynamic library libcusparse.so.11\n",
      "2023-06-13 17:38:32.506016: I tensorflow/stream_executor/platform/default/dso_loader.cc:53] Successfully opened dynamic library libcudnn.so.8\n",
      "2023-06-13 17:38:32.506154: I tensorflow/stream_executor/cuda/cuda_gpu_executor.cc:937] successful NUMA node read from SysFS had negative value (-1), but there must be at least one NUMA node, so returning NUMA node zero\n",
      "2023-06-13 17:38:32.506792: I tensorflow/stream_executor/cuda/cuda_gpu_executor.cc:937] successful NUMA node read from SysFS had negative value (-1), but there must be at least one NUMA node, so returning NUMA node zero\n",
      "2023-06-13 17:38:32.507352: I tensorflow/core/common_runtime/gpu/gpu_device.cc:1871] Adding visible gpu devices: 0\n"
     ]
    }
   ],
   "source": [
    "devices = tf.config.list_physical_devices()\n",
    "\n",
    "for device in devices:\n",
    "    print(device)"
   ]
  },
  {
   "cell_type": "code",
   "execution_count": 4,
   "id": "418f2031",
   "metadata": {
    "ExecuteTime": {
     "end_time": "2023-06-06T15:44:28.674166Z",
     "start_time": "2023-06-06T15:44:28.109241Z"
    }
   },
   "outputs": [],
   "source": [
    "(train_images, train_labels), (test_images, test_labels) = cifar10.load_data()\n",
    "\n",
    "train_images = train_images.astype(\"float32\") / 255\n",
    "test_images = test_images.astype(\"float32\") / 255\n",
    "\n",
    "train_labels = tf.keras.utils.to_categorical(train_labels, 10)\n",
    "test_labels = tf.keras.utils.to_categorical(test_labels, 10)"
   ]
  },
  {
   "cell_type": "markdown",
   "id": "0653b8c7",
   "metadata": {},
   "source": [
    "# Keras Part"
   ]
  },
  {
   "cell_type": "code",
   "execution_count": 5,
   "id": "b4ec0bfa",
   "metadata": {
    "ExecuteTime": {
     "end_time": "2023-06-06T15:45:04.136061Z",
     "start_time": "2023-06-06T15:45:04.026796Z"
    }
   },
   "outputs": [
    {
     "name": "stdout",
     "output_type": "stream",
     "text": [
      "Adding convolutional block 0 with N=64 filters\n"
     ]
    },
    {
     "name": "stderr",
     "output_type": "stream",
     "text": [
      "2023-06-13 17:38:33.142769: I tensorflow/core/platform/cpu_feature_guard.cc:142] This TensorFlow binary is optimized with oneAPI Deep Neural Network Library (oneDNN) to use the following CPU instructions in performance-critical operations:  AVX2 FMA\n",
      "To enable them in other operations, rebuild TensorFlow with the appropriate compiler flags.\n",
      "2023-06-13 17:38:33.143790: I tensorflow/stream_executor/cuda/cuda_gpu_executor.cc:937] successful NUMA node read from SysFS had negative value (-1), but there must be at least one NUMA node, so returning NUMA node zero\n",
      "2023-06-13 17:38:33.145589: I tensorflow/core/common_runtime/gpu/gpu_device.cc:1733] Found device 0 with properties: \n",
      "pciBusID: 0000:01:00.0 name: NVIDIA GeForce RTX 2080 Ti computeCapability: 7.5\n",
      "coreClock: 1.545GHz coreCount: 68 deviceMemorySize: 10.74GiB deviceMemoryBandwidth: 573.69GiB/s\n",
      "2023-06-13 17:38:33.145681: I tensorflow/stream_executor/cuda/cuda_gpu_executor.cc:937] successful NUMA node read from SysFS had negative value (-1), but there must be at least one NUMA node, so returning NUMA node zero\n",
      "2023-06-13 17:38:33.146000: I tensorflow/stream_executor/cuda/cuda_gpu_executor.cc:937] successful NUMA node read from SysFS had negative value (-1), but there must be at least one NUMA node, so returning NUMA node zero\n",
      "2023-06-13 17:38:33.146334: I tensorflow/core/common_runtime/gpu/gpu_device.cc:1871] Adding visible gpu devices: 0\n",
      "2023-06-13 17:38:33.146372: I tensorflow/stream_executor/platform/default/dso_loader.cc:53] Successfully opened dynamic library libcudart.so.11.0\n",
      "2023-06-13 17:38:33.605091: I tensorflow/core/common_runtime/gpu/gpu_device.cc:1258] Device interconnect StreamExecutor with strength 1 edge matrix:\n",
      "2023-06-13 17:38:33.605114: I tensorflow/core/common_runtime/gpu/gpu_device.cc:1264]      0 \n",
      "2023-06-13 17:38:33.605121: I tensorflow/core/common_runtime/gpu/gpu_device.cc:1277] 0:   N \n",
      "2023-06-13 17:38:33.605246: I tensorflow/stream_executor/cuda/cuda_gpu_executor.cc:937] successful NUMA node read from SysFS had negative value (-1), but there must be at least one NUMA node, so returning NUMA node zero\n",
      "2023-06-13 17:38:33.605574: I tensorflow/stream_executor/cuda/cuda_gpu_executor.cc:937] successful NUMA node read from SysFS had negative value (-1), but there must be at least one NUMA node, so returning NUMA node zero\n",
      "2023-06-13 17:38:33.605875: I tensorflow/stream_executor/cuda/cuda_gpu_executor.cc:937] successful NUMA node read from SysFS had negative value (-1), but there must be at least one NUMA node, so returning NUMA node zero\n",
      "2023-06-13 17:38:33.606162: I tensorflow/core/common_runtime/gpu/gpu_device.cc:1418] Created TensorFlow device (/job:localhost/replica:0/task:0/device:GPU:0 with 9113 MB memory) -> physical GPU (device: 0, name: NVIDIA GeForce RTX 2080 Ti, pci bus id: 0000:01:00.0, compute capability: 7.5)\n"
     ]
    },
    {
     "name": "stdout",
     "output_type": "stream",
     "text": [
      "Adding convolutional block 1 with N=4 filters\n",
      "Adding convolutional block 2 with N=8 filters\n",
      "Adding convolutional block 3 with N=16 filters\n",
      "Adding convolutional block 4 with N=16 filters\n",
      "Adding dense block 0 with N=16 neurons\n",
      "Adding dense block 1 with N=10 neurons\n",
      "Model: \"alexnet\"\n",
      "_________________________________________________________________\n",
      "Layer (type)                 Output Shape              Param #   \n",
      "=================================================================\n",
      "input_1 (InputLayer)         [(None, 32, 32, 3)]       0         \n",
      "_________________________________________________________________\n",
      "conv_0 (Conv2D)              (None, 32, 32, 64)        1728      \n",
      "_________________________________________________________________\n",
      "bn_conv_0 (BatchNormalizatio (None, 32, 32, 64)        256       \n",
      "_________________________________________________________________\n",
      "conv_act_0 (Activation)      (None, 32, 32, 64)        0         \n",
      "_________________________________________________________________\n",
      "pool_0 (MaxPooling2D)        (None, 16, 16, 64)        0         \n",
      "_________________________________________________________________\n",
      "conv_1 (Conv2D)              (None, 16, 16, 4)         2304      \n",
      "_________________________________________________________________\n",
      "bn_conv_1 (BatchNormalizatio (None, 16, 16, 4)         16        \n",
      "_________________________________________________________________\n",
      "conv_act_1 (Activation)      (None, 16, 16, 4)         0         \n",
      "_________________________________________________________________\n",
      "pool_1 (MaxPooling2D)        (None, 8, 8, 4)           0         \n",
      "_________________________________________________________________\n",
      "conv_2 (Conv2D)              (None, 8, 8, 8)           288       \n",
      "_________________________________________________________________\n",
      "bn_conv_2 (BatchNormalizatio (None, 8, 8, 8)           32        \n",
      "_________________________________________________________________\n",
      "conv_act_2 (Activation)      (None, 8, 8, 8)           0         \n",
      "_________________________________________________________________\n",
      "conv_3 (Conv2D)              (None, 8, 8, 16)          1152      \n",
      "_________________________________________________________________\n",
      "bn_conv_3 (BatchNormalizatio (None, 8, 8, 16)          64        \n",
      "_________________________________________________________________\n",
      "conv_act_3 (Activation)      (None, 8, 8, 16)          0         \n",
      "_________________________________________________________________\n",
      "conv_4 (Conv2D)              (None, 8, 8, 16)          2304      \n",
      "_________________________________________________________________\n",
      "bn_conv_4 (BatchNormalizatio (None, 8, 8, 16)          64        \n",
      "_________________________________________________________________\n",
      "conv_act_4 (Activation)      (None, 8, 8, 16)          0         \n",
      "_________________________________________________________________\n",
      "pool_4 (MaxPooling2D)        (None, 4, 4, 16)          0         \n",
      "_________________________________________________________________\n",
      "flatten (Flatten)            (None, 256)               0         \n",
      "_________________________________________________________________\n",
      "dense_0 (Dense)              (None, 16)                4096      \n",
      "_________________________________________________________________\n",
      "bn_dense_0 (BatchNormalizati (None, 16)                64        \n",
      "_________________________________________________________________\n",
      "dense_act_0 (Activation)     (None, 16)                0         \n",
      "_________________________________________________________________\n",
      "dense_1 (Dense)              (None, 10)                160       \n",
      "_________________________________________________________________\n",
      "bn_dense_1 (BatchNormalizati (None, 10)                40        \n",
      "_________________________________________________________________\n",
      "dense_act_1 (Activation)     (None, 10)                0         \n",
      "_________________________________________________________________\n",
      "output_dense (Dense)         (None, 10)                110       \n",
      "_________________________________________________________________\n",
      "output_softmax (Activation)  (None, 10)                0         \n",
      "=================================================================\n",
      "Total params: 12,678\n",
      "Trainable params: 12,410\n",
      "Non-trainable params: 268\n",
      "_________________________________________________________________\n"
     ]
    }
   ],
   "source": [
    "from tensorflow.keras.layers import Input\n",
    "from tensorflow.keras.layers import BatchNormalization\n",
    "from tensorflow.keras.layers import Conv2D\n",
    "from tensorflow.keras.layers import MaxPooling2D\n",
    "from tensorflow.keras.layers import Activation\n",
    "from tensorflow.keras.layers import Flatten\n",
    "from tensorflow.keras.layers import Dense\n",
    "from tensorflow.keras.regularizers import l1\n",
    "from tensorflow.keras.models import Model\n",
    "\n",
    "filters_per_conv_layer = [64, 4, 8, 16, 16]\n",
    "neurons_per_dense_layer = [16, 10]\n",
    "\n",
    "x = x_in = Input((32, 32, 3)) \n",
    "\n",
    "n_classes = 10 \n",
    "\n",
    "for i, f in enumerate(filters_per_conv_layer):\n",
    "    print(('Adding convolutional block {} with N={} filters').format(i, f))\n",
    "    x = Conv2D(\n",
    "        int(f),\n",
    "        kernel_size=(3, 3),\n",
    "        strides=(1, 1),\n",
    "        padding='same',\n",
    "        kernel_initializer='lecun_uniform',\n",
    "        kernel_regularizer=l1(0.001),\n",
    "        use_bias=False,\n",
    "        name='conv_{}'.format(i),\n",
    "    )(x)\n",
    "    x = BatchNormalization(name='bn_conv_{}'.format(i))(x)\n",
    "    x = Activation('relu', name='conv_act_%i' % i)(x)\n",
    "    if i == 0 or i == 1 or i == 4:  # Apply pooling after layers 1, 2 and 5\n",
    "        x = MaxPooling2D(pool_size=(2, 2), strides=(2, 2), name='pool_{}'.format(i))(x)\n",
    "x = Flatten()(x)\n",
    "\n",
    "for i, n in enumerate(neurons_per_dense_layer):\n",
    "    print(('Adding dense block {} with N={} neurons').format(i, n))\n",
    "    x = Dense(n, kernel_initializer='lecun_uniform', kernel_regularizer=l1(0.001), name='dense_%i' % i, use_bias=False)(x)\n",
    "    x = BatchNormalization(name='bn_dense_{}'.format(i))(x)\n",
    "    x = Activation('relu', name='dense_act_%i' % i)(x)\n",
    "\n",
    "x = Dense(int(n_classes), name='output_dense')(x)\n",
    "x_out = Activation('softmax', name='output_softmax')(x)\n",
    "\n",
    "keras_model = Model(inputs=[x_in], outputs=[x_out], name='alexnet')\n",
    "\n",
    "keras_model.summary()\n"
   ]
  },
  {
   "cell_type": "markdown",
   "id": "0d4eb805",
   "metadata": {},
   "source": [
    "# Train"
   ]
  },
  {
   "cell_type": "code",
   "execution_count": null,
   "id": "76f16a26",
   "metadata": {},
   "outputs": [
    {
     "name": "stderr",
     "output_type": "stream",
     "text": [
      "2023-06-13 17:38:33.832356: I tensorflow/core/profiler/lib/profiler_session.cc:126] Profiler session initializing.\n",
      "2023-06-13 17:38:33.832382: I tensorflow/core/profiler/lib/profiler_session.cc:141] Profiler session started.\n",
      "2023-06-13 17:38:33.832415: I tensorflow/core/profiler/internal/gpu/cupti_tracer.cc:1611] Profiler found 1 GPUs\n",
      "2023-06-13 17:38:33.832704: W tensorflow/stream_executor/platform/default/dso_loader.cc:64] Could not load dynamic library 'libcupti.so.11.2'; dlerror: libcupti.so.11.2: cannot open shared object file: No such file or directory; LD_LIBRARY_PATH: /usr/local/cuda-11.2/lib64::/usr/local/hdf5/lib\n",
      "2023-06-13 17:38:33.832784: W tensorflow/stream_executor/platform/default/dso_loader.cc:64] Could not load dynamic library 'libcupti.so'; dlerror: libcupti.so: cannot open shared object file: No such file or directory; LD_LIBRARY_PATH: /usr/local/cuda-11.2/lib64::/usr/local/hdf5/lib\n",
      "2023-06-13 17:38:33.832796: E tensorflow/core/profiler/internal/gpu/cupti_tracer.cc:1661] function cupti_interface_->Subscribe( &subscriber_, (CUpti_CallbackFunc)ApiCallback, this)failed with error CUPTI could not be loaded or symbol could not be found.\n",
      "2023-06-13 17:38:33.832816: I tensorflow/core/profiler/lib/profiler_session.cc:159] Profiler session tear down.\n",
      "2023-06-13 17:38:33.832830: E tensorflow/core/profiler/internal/gpu/cupti_tracer.cc:1752] function cupti_interface_->Finalize()failed with error CUPTI could not be loaded or symbol could not be found.\n",
      "2023-06-13 17:38:34.963684: I tensorflow/compiler/mlir/mlir_graph_optimization_pass.cc:176] None of the MLIR Optimization Passes are enabled (registered 2)\n",
      "2023-06-13 17:38:34.982300: I tensorflow/core/platform/profile_utils/cpu_utils.cc:114] CPU Frequency: 3600000000 Hz\n"
     ]
    },
    {
     "name": "stdout",
     "output_type": "stream",
     "text": [
      "Epoch 1/300\n"
     ]
    },
    {
     "name": "stderr",
     "output_type": "stream",
     "text": [
      "2023-06-13 17:38:35.959133: I tensorflow/stream_executor/platform/default/dso_loader.cc:53] Successfully opened dynamic library libcudnn.so.8\n",
      "2023-06-13 17:38:36.433795: I tensorflow/stream_executor/cuda/cuda_dnn.cc:359] Loaded cuDNN version 8101\n",
      "2023-06-13 17:38:37.365935: I tensorflow/stream_executor/platform/default/dso_loader.cc:53] Successfully opened dynamic library libcublas.so.11\n",
      "2023-06-13 17:38:37.956641: I tensorflow/stream_executor/platform/default/dso_loader.cc:53] Successfully opened dynamic library libcublasLt.so.11\n"
     ]
    },
    {
     "name": "stdout",
     "output_type": "stream",
     "text": [
      " 8/49 [===>..........................] - ETA: 1s - loss: 3.3493 - accuracy: 0.1217"
     ]
    },
    {
     "name": "stderr",
     "output_type": "stream",
     "text": [
      "2023-06-13 17:38:38.605415: I tensorflow/core/profiler/lib/profiler_session.cc:126] Profiler session initializing.\n",
      "2023-06-13 17:38:38.605438: I tensorflow/core/profiler/lib/profiler_session.cc:141] Profiler session started.\n",
      "2023-06-13 17:38:38.605465: E tensorflow/core/profiler/internal/gpu/cupti_tracer.cc:1661] function cupti_interface_->Subscribe( &subscriber_, (CUpti_CallbackFunc)ApiCallback, this)failed with error CUPTI could not be loaded or symbol could not be found.\n",
      "2023-06-13 17:38:38.628333: I tensorflow/core/profiler/lib/profiler_session.cc:66] Profiler session collecting data.\n",
      "2023-06-13 17:38:38.628402: E tensorflow/core/profiler/internal/gpu/cupti_tracer.cc:1752] function cupti_interface_->Finalize()failed with error CUPTI could not be loaded or symbol could not be found.\n",
      "2023-06-13 17:38:38.631164: I tensorflow/core/profiler/internal/gpu/cupti_collector.cc:673]  GpuTracer has collected 0 callback api events and 0 activity events. \n",
      "2023-06-13 17:38:38.632433: I tensorflow/core/profiler/lib/profiler_session.cc:159] Profiler session tear down.\n",
      "2023-06-13 17:38:38.633856: I tensorflow/core/profiler/rpc/client/save_profile.cc:137] Creating directory: AlexNet_Cifar10_LOG/Keras/train/plugins/profile/2023_06_13_17_38_38\n",
      "2023-06-13 17:38:38.634280: I tensorflow/core/profiler/rpc/client/save_profile.cc:143] Dumped gzipped tool data for trace.json.gz to AlexNet_Cifar10_LOG/Keras/train/plugins/profile/2023_06_13_17_38_38/labshi-MP-i1640.trace.json.gz\n",
      "2023-06-13 17:38:38.647808: I tensorflow/core/profiler/rpc/client/save_profile.cc:137] Creating directory: AlexNet_Cifar10_LOG/Keras/train/plugins/profile/2023_06_13_17_38_38\n",
      "2023-06-13 17:38:38.649818: I tensorflow/core/profiler/rpc/client/save_profile.cc:143] Dumped gzipped tool data for memory_profile.json.gz to AlexNet_Cifar10_LOG/Keras/train/plugins/profile/2023_06_13_17_38_38/labshi-MP-i1640.memory_profile.json.gz\n",
      "2023-06-13 17:38:38.649960: I tensorflow/core/profiler/rpc/client/capture_profile.cc:251] Creating directory: AlexNet_Cifar10_LOG/Keras/train/plugins/profile/2023_06_13_17_38_38Dumped tool data for xplane.pb to AlexNet_Cifar10_LOG/Keras/train/plugins/profile/2023_06_13_17_38_38/labshi-MP-i1640.xplane.pb\n",
      "Dumped tool data for overview_page.pb to AlexNet_Cifar10_LOG/Keras/train/plugins/profile/2023_06_13_17_38_38/labshi-MP-i1640.overview_page.pb\n",
      "Dumped tool data for input_pipeline.pb to AlexNet_Cifar10_LOG/Keras/train/plugins/profile/2023_06_13_17_38_38/labshi-MP-i1640.input_pipeline.pb\n",
      "Dumped tool data for tensorflow_stats.pb to AlexNet_Cifar10_LOG/Keras/train/plugins/profile/2023_06_13_17_38_38/labshi-MP-i1640.tensorflow_stats.pb\n",
      "Dumped tool data for kernel_stats.pb to AlexNet_Cifar10_LOG/Keras/train/plugins/profile/2023_06_13_17_38_38/labshi-MP-i1640.kernel_stats.pb\n",
      "\n"
     ]
    },
    {
     "name": "stdout",
     "output_type": "stream",
     "text": [
      "49/49 [==============================] - 6s 42ms/step - loss: 3.0619 - accuracy: 0.2325 - val_loss: 3.1659 - val_accuracy: 0.1436\n",
      "Epoch 2/300\n",
      "49/49 [==============================] - 1s 23ms/step - loss: 2.7134 - accuracy: 0.3595 - val_loss: 3.0634 - val_accuracy: 0.1675\n",
      "Epoch 3/300\n",
      "49/49 [==============================] - 1s 23ms/step - loss: 2.4648 - accuracy: 0.4161 - val_loss: 2.9646 - val_accuracy: 0.1820\n",
      "Epoch 4/300\n",
      "49/49 [==============================] - 1s 23ms/step - loss: 2.2457 - accuracy: 0.4627 - val_loss: 2.8883 - val_accuracy: 0.1974\n",
      "Epoch 5/300\n",
      "49/49 [==============================] - 1s 23ms/step - loss: 2.0660 - accuracy: 0.5016 - val_loss: 2.8326 - val_accuracy: 0.2003\n",
      "Epoch 6/300\n",
      "49/49 [==============================] - 1s 24ms/step - loss: 1.9180 - accuracy: 0.5314 - val_loss: 2.8213 - val_accuracy: 0.2099\n",
      "Epoch 7/300\n",
      "49/49 [==============================] - 1s 23ms/step - loss: 1.8038 - accuracy: 0.5544 - val_loss: 2.9441 - val_accuracy: 0.1840\n",
      "Epoch 8/300\n",
      "49/49 [==============================] - 1s 23ms/step - loss: 1.7155 - accuracy: 0.5736 - val_loss: 2.5683 - val_accuracy: 0.2709\n",
      "Epoch 9/300\n",
      "49/49 [==============================] - 1s 23ms/step - loss: 1.6418 - accuracy: 0.5909 - val_loss: 2.5729 - val_accuracy: 0.2913\n",
      "Epoch 10/300\n",
      "49/49 [==============================] - 1s 23ms/step - loss: 1.5847 - accuracy: 0.6016 - val_loss: 2.3211 - val_accuracy: 0.3483\n",
      "Epoch 11/300\n",
      "49/49 [==============================] - 1s 23ms/step - loss: 1.5358 - accuracy: 0.6125 - val_loss: 2.0204 - val_accuracy: 0.4196\n",
      "Epoch 12/300\n",
      "49/49 [==============================] - 1s 23ms/step - loss: 1.4971 - accuracy: 0.6209 - val_loss: 1.8043 - val_accuracy: 0.4983\n",
      "Epoch 13/300\n",
      "49/49 [==============================] - 1s 23ms/step - loss: 1.4666 - accuracy: 0.6277 - val_loss: 1.8701 - val_accuracy: 0.4703\n",
      "Epoch 14/300\n",
      "49/49 [==============================] - 1s 23ms/step - loss: 1.4359 - accuracy: 0.6344 - val_loss: 1.6268 - val_accuracy: 0.5613\n",
      "Epoch 15/300\n",
      "49/49 [==============================] - 1s 23ms/step - loss: 1.4099 - accuracy: 0.6418 - val_loss: 1.7165 - val_accuracy: 0.5279\n",
      "Epoch 16/300\n",
      "49/49 [==============================] - 1s 23ms/step - loss: 1.3842 - accuracy: 0.6468 - val_loss: 1.7222 - val_accuracy: 0.5350\n",
      "Epoch 17/300\n",
      "49/49 [==============================] - 1s 23ms/step - loss: 1.3674 - accuracy: 0.6513 - val_loss: 1.6631 - val_accuracy: 0.5454\n",
      "Epoch 18/300\n",
      "49/49 [==============================] - 1s 24ms/step - loss: 1.3523 - accuracy: 0.6532 - val_loss: 1.6175 - val_accuracy: 0.5540\n",
      "Epoch 19/300\n",
      "49/49 [==============================] - 1s 23ms/step - loss: 1.3356 - accuracy: 0.6557 - val_loss: 1.5149 - val_accuracy: 0.5901\n",
      "Epoch 20/300\n",
      "49/49 [==============================] - 1s 23ms/step - loss: 1.3218 - accuracy: 0.6576 - val_loss: 1.6028 - val_accuracy: 0.5612\n",
      "Epoch 21/300\n",
      "49/49 [==============================] - 1s 23ms/step - loss: 1.3049 - accuracy: 0.6622 - val_loss: 1.5313 - val_accuracy: 0.5825\n",
      "Epoch 22/300\n",
      "49/49 [==============================] - 1s 23ms/step - loss: 1.2919 - accuracy: 0.6662 - val_loss: 1.7055 - val_accuracy: 0.5369\n",
      "Epoch 23/300\n",
      "49/49 [==============================] - 1s 23ms/step - loss: 1.2841 - accuracy: 0.6667 - val_loss: 1.7868 - val_accuracy: 0.5171\n",
      "Epoch 24/300\n",
      "49/49 [==============================] - 1s 23ms/step - loss: 1.2709 - accuracy: 0.6700 - val_loss: 1.4985 - val_accuracy: 0.5873\n",
      "Epoch 25/300\n",
      "49/49 [==============================] - 1s 23ms/step - loss: 1.2621 - accuracy: 0.6737 - val_loss: 1.7264 - val_accuracy: 0.5425\n",
      "Epoch 26/300\n",
      "49/49 [==============================] - 1s 23ms/step - loss: 1.2559 - accuracy: 0.6751 - val_loss: 1.4303 - val_accuracy: 0.6118\n",
      "Epoch 27/300\n",
      "49/49 [==============================] - 1s 23ms/step - loss: 1.2383 - accuracy: 0.6815 - val_loss: 1.8682 - val_accuracy: 0.5063\n",
      "Epoch 28/300\n",
      "49/49 [==============================] - 1s 23ms/step - loss: 1.2295 - accuracy: 0.6831 - val_loss: 1.4453 - val_accuracy: 0.6041\n",
      "Epoch 29/300\n",
      "49/49 [==============================] - 1s 23ms/step - loss: 1.2170 - accuracy: 0.6857 - val_loss: 1.4293 - val_accuracy: 0.6086\n",
      "Epoch 30/300\n",
      "49/49 [==============================] - 1s 23ms/step - loss: 1.2146 - accuracy: 0.6860 - val_loss: 1.4377 - val_accuracy: 0.6059\n",
      "Epoch 31/300\n",
      "49/49 [==============================] - 1s 23ms/step - loss: 1.2041 - accuracy: 0.6882 - val_loss: 1.4693 - val_accuracy: 0.5946\n",
      "Epoch 32/300\n",
      "49/49 [==============================] - 1s 23ms/step - loss: 1.2013 - accuracy: 0.6898 - val_loss: 1.5772 - val_accuracy: 0.5599\n",
      "Epoch 33/300\n",
      "49/49 [==============================] - 1s 23ms/step - loss: 1.1979 - accuracy: 0.6882 - val_loss: 1.3932 - val_accuracy: 0.6241\n",
      "Epoch 34/300\n",
      "49/49 [==============================] - 1s 23ms/step - loss: 1.1834 - accuracy: 0.6929 - val_loss: 1.4487 - val_accuracy: 0.6030\n",
      "Epoch 35/300\n",
      "49/49 [==============================] - 1s 23ms/step - loss: 1.1860 - accuracy: 0.6903 - val_loss: 1.4654 - val_accuracy: 0.6089\n",
      "Epoch 36/300\n",
      "49/49 [==============================] - 1s 23ms/step - loss: 1.1715 - accuracy: 0.6944 - val_loss: 1.5163 - val_accuracy: 0.5905\n",
      "Epoch 37/300\n",
      "49/49 [==============================] - 1s 23ms/step - loss: 1.1698 - accuracy: 0.6958 - val_loss: 1.4793 - val_accuracy: 0.5948\n",
      "Epoch 38/300\n",
      "49/49 [==============================] - 1s 23ms/step - loss: 1.1629 - accuracy: 0.6981 - val_loss: 1.5115 - val_accuracy: 0.5869\n",
      "Epoch 39/300\n",
      "49/49 [==============================] - 1s 23ms/step - loss: 1.1582 - accuracy: 0.6997 - val_loss: 1.4536 - val_accuracy: 0.6022\n",
      "Epoch 40/300\n",
      "49/49 [==============================] - 1s 23ms/step - loss: 1.1488 - accuracy: 0.7015 - val_loss: 1.4386 - val_accuracy: 0.6126\n",
      "Epoch 41/300\n",
      "49/49 [==============================] - 1s 23ms/step - loss: 1.1459 - accuracy: 0.7029 - val_loss: 1.3382 - val_accuracy: 0.6346\n",
      "Epoch 42/300\n",
      "49/49 [==============================] - 1s 23ms/step - loss: 1.1406 - accuracy: 0.7040 - val_loss: 1.6133 - val_accuracy: 0.5601\n",
      "Epoch 43/300\n",
      "49/49 [==============================] - 1s 23ms/step - loss: 1.1380 - accuracy: 0.7029 - val_loss: 1.3897 - val_accuracy: 0.6260\n",
      "Epoch 44/300\n",
      "49/49 [==============================] - 1s 23ms/step - loss: 1.1328 - accuracy: 0.7062 - val_loss: 1.4151 - val_accuracy: 0.6113\n",
      "Epoch 45/300\n",
      "49/49 [==============================] - 1s 23ms/step - loss: 1.1272 - accuracy: 0.7071 - val_loss: 1.4157 - val_accuracy: 0.6078\n",
      "Epoch 46/300\n",
      "49/49 [==============================] - 1s 23ms/step - loss: 1.1262 - accuracy: 0.7075 - val_loss: 1.4973 - val_accuracy: 0.5889\n",
      "Epoch 47/300\n",
      "49/49 [==============================] - 1s 23ms/step - loss: 1.1273 - accuracy: 0.7058 - val_loss: 1.6270 - val_accuracy: 0.5573\n",
      "Epoch 48/300\n",
      "49/49 [==============================] - 1s 24ms/step - loss: 1.1143 - accuracy: 0.7102 - val_loss: 1.4056 - val_accuracy: 0.6126\n",
      "Epoch 49/300\n",
      "49/49 [==============================] - 1s 23ms/step - loss: 1.1075 - accuracy: 0.7127 - val_loss: 1.3433 - val_accuracy: 0.6358\n",
      "Epoch 50/300\n",
      "49/49 [==============================] - 1s 23ms/step - loss: 1.1097 - accuracy: 0.7109 - val_loss: 1.4999 - val_accuracy: 0.5823\n",
      "Epoch 51/300\n",
      "49/49 [==============================] - 1s 23ms/step - loss: 1.1055 - accuracy: 0.7117 - val_loss: 1.3776 - val_accuracy: 0.6257\n",
      "Epoch 52/300\n",
      "49/49 [==============================] - 1s 23ms/step - loss: 1.1001 - accuracy: 0.7122 - val_loss: 1.4181 - val_accuracy: 0.6085\n",
      "Epoch 53/300\n",
      "49/49 [==============================] - 1s 23ms/step - loss: 1.0910 - accuracy: 0.7167 - val_loss: 1.4073 - val_accuracy: 0.6140\n",
      "Epoch 54/300\n",
      "49/49 [==============================] - 1s 23ms/step - loss: 1.0913 - accuracy: 0.7167 - val_loss: 1.3243 - val_accuracy: 0.6418\n",
      "Epoch 55/300\n",
      "49/49 [==============================] - 1s 23ms/step - loss: 1.0864 - accuracy: 0.7175 - val_loss: 1.4139 - val_accuracy: 0.6139\n",
      "Epoch 56/300\n",
      "49/49 [==============================] - 1s 23ms/step - loss: 1.0899 - accuracy: 0.7144 - val_loss: 1.3207 - val_accuracy: 0.6433\n",
      "Epoch 57/300\n",
      "49/49 [==============================] - 1s 23ms/step - loss: 1.0889 - accuracy: 0.7152 - val_loss: 1.4930 - val_accuracy: 0.5888\n",
      "Epoch 58/300\n"
     ]
    },
    {
     "name": "stdout",
     "output_type": "stream",
     "text": [
      "49/49 [==============================] - 1s 23ms/step - loss: 1.0793 - accuracy: 0.7171 - val_loss: 1.4458 - val_accuracy: 0.6025\n",
      "Epoch 59/300\n",
      "49/49 [==============================] - 1s 23ms/step - loss: 1.0760 - accuracy: 0.7197 - val_loss: 1.3790 - val_accuracy: 0.6274\n",
      "Epoch 60/300\n",
      "49/49 [==============================] - 1s 23ms/step - loss: 1.0752 - accuracy: 0.7177 - val_loss: 1.4523 - val_accuracy: 0.5977\n",
      "Epoch 61/300\n",
      "49/49 [==============================] - 1s 23ms/step - loss: 1.0733 - accuracy: 0.7185 - val_loss: 1.3961 - val_accuracy: 0.6225\n",
      "Epoch 62/300\n",
      "49/49 [==============================] - 1s 23ms/step - loss: 1.0673 - accuracy: 0.7226 - val_loss: 1.3384 - val_accuracy: 0.6370\n",
      "Epoch 63/300\n",
      "49/49 [==============================] - 1s 23ms/step - loss: 1.0680 - accuracy: 0.7207 - val_loss: 1.4308 - val_accuracy: 0.6061\n",
      "Epoch 64/300\n",
      "49/49 [==============================] - 1s 23ms/step - loss: 1.0645 - accuracy: 0.7207 - val_loss: 1.4315 - val_accuracy: 0.6163\n",
      "Epoch 65/300\n",
      "49/49 [==============================] - 1s 23ms/step - loss: 1.0613 - accuracy: 0.7227 - val_loss: 1.3198 - val_accuracy: 0.6412\n",
      "Epoch 66/300\n",
      "49/49 [==============================] - 1s 23ms/step - loss: 1.0587 - accuracy: 0.7244 - val_loss: 1.3656 - val_accuracy: 0.6327\n",
      "Epoch 67/300\n",
      "49/49 [==============================] - 1s 23ms/step - loss: 1.0623 - accuracy: 0.7215 - val_loss: 1.3358 - val_accuracy: 0.6388\n",
      "Epoch 68/300\n",
      "49/49 [==============================] - 1s 23ms/step - loss: 1.0474 - accuracy: 0.7272 - val_loss: 1.4607 - val_accuracy: 0.6019\n",
      "Epoch 69/300\n",
      "49/49 [==============================] - 1s 23ms/step - loss: 1.0538 - accuracy: 0.7247 - val_loss: 1.4276 - val_accuracy: 0.6113\n",
      "Epoch 70/300\n",
      "49/49 [==============================] - 1s 23ms/step - loss: 1.0503 - accuracy: 0.7265 - val_loss: 1.3814 - val_accuracy: 0.6290\n",
      "Epoch 71/300\n",
      "16/49 [========>.....................] - ETA: 0s - loss: 1.0171 - accuracy: 0.7379"
     ]
    }
   ],
   "source": [
    "datagen = ImageDataGenerator(\n",
    "    rotation_range=20,  \n",
    "    width_shift_range=0.2,  \n",
    "    height_shift_range=0.2,\n",
    "    shear_range=0.2, \n",
    "    zoom_range=0.2,\n",
    "    horizontal_flip=True,\n",
    "    fill_mode='nearest'\n",
    ")\n",
    "\n",
    "def step_decay(epoch):\n",
    "    initial_lr = lr\n",
    "    drop = 0.5\n",
    "    epochs_drop = 10\n",
    "    lr = initial_lr * drop * (epoch // epochs_drop)\n",
    "    return lr\n",
    "\n",
    "#train_datagen = datagen.flow(train_images, train_labels, batch_size=batch_size)\n",
    "\n",
    "keras_model.compile(\n",
    "    optimizer=Adam(lr),\n",
    "    loss=tf.keras.losses.CategoricalCrossentropy(),\n",
    "    metrics=['accuracy']\n",
    ")\n",
    "tensorboard_callback = tf.keras.callbacks.TensorBoard(\n",
    "    log_dir=log_dir_keras,\n",
    "    histogram_freq=1\n",
    ")\n",
    "start = time.time()\n",
    "keras_model.fit(\n",
    "    #datagen.flow(train_images, train_labels, batch_size=batch_size),\n",
    "    train_images,\n",
    "    train_labels,\n",
    "    batch_size=batch_size,\n",
    "    epochs=epochs,\n",
    "    validation_data=(test_images, test_labels),\n",
    "    verbose=1,\n",
    "    callbacks=[tensorboard_callback]\n",
    ")\n",
    "end = time.time()\n",
    "\n",
    "keras_model.save(model_name)\n",
    "print('It took {} minutes to train Keras model'.format((end - start) / 60.0))"
   ]
  },
  {
   "cell_type": "code",
   "execution_count": null,
   "id": "c795c1e3",
   "metadata": {},
   "outputs": [],
   "source": []
  }
 ],
 "metadata": {
  "kernelspec": {
   "display_name": "Python 3 (ipykernel)",
   "language": "python",
   "name": "python3"
  },
  "language_info": {
   "codemirror_mode": {
    "name": "ipython",
    "version": 3
   },
   "file_extension": ".py",
   "mimetype": "text/x-python",
   "name": "python",
   "nbconvert_exporter": "python",
   "pygments_lexer": "ipython3",
   "version": "3.9.12"
  }
 },
 "nbformat": 4,
 "nbformat_minor": 5
}

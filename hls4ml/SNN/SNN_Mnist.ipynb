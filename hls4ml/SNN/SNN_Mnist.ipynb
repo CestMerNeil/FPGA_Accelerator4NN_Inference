{
 "cells": [
  {
   "cell_type": "code",
   "execution_count": 1,
   "id": "efc31fd7-d33a-43ef-9457-9ac11db50dfd",
   "metadata": {},
   "outputs": [
    {
     "name": "stderr",
     "output_type": "stream",
     "text": [
      "2023-07-05 01:31:48.230336: I tensorflow/core/platform/cpu_feature_guard.cc:193] This TensorFlow binary is optimized with oneAPI Deep Neural Network Library (oneDNN) to use the following CPU instructions in performance-critical operations:  SSE4.1 SSE4.2 AVX AVX2 FMA\n",
      "To enable them in other operations, rebuild TensorFlow with the appropriate compiler flags.\n"
     ]
    }
   ],
   "source": [
    "import tensorflow as tf\n",
    "import numpy as np\n",
    "from tensorflow.keras.datasets import mnist"
   ]
  },
  {
   "cell_type": "code",
   "execution_count": 3,
   "id": "c20a307f-0a7a-451b-a6e8-b34dea73315f",
   "metadata": {},
   "outputs": [],
   "source": [
    "(train_images, train_labels), (test_images, test_labels) = mnist.load_data()\n",
    "\n",
    "train_images = train_images.astype('float32') / 255\n",
    "test_images = test_images.astype('float32') / 255"
   ]
  },
  {
   "cell_type": "markdown",
   "id": "62290eda-8784-49dd-812c-2c0e395f0ac6",
   "metadata": {},
   "source": [
    "# Define the SNN layer"
   ]
  },
  {
   "cell_type": "code",
   "execution_count": 21,
   "id": "162c7264-9090-4670-a74a-88fcf239bdd1",
   "metadata": {},
   "outputs": [],
   "source": [
    "class SNNLayer(tf.keras.layers.Layer):\n",
    "    def __init__(self, num_neurons, threshold=1.0):\n",
    "        super(SNNLayer, self).__init__()\n",
    "        self.num_neurons = num_neurons\n",
    "        self.threshold = threshold\n",
    "\n",
    "    def build(self, input_shape):\n",
    "        self.kernel = self.add_weight(\n",
    "            shape=(input_shape[1], self.num_neurons),\n",
    "            initializer=\"random_normal\",\n",
    "            trainable=True,\n",
    "        )\n",
    "\n",
    "    def call(self, inputs):\n",
    "        membrane_potential = tf.matmul(inputs, self.kernel)\n",
    "        spikes = tf.where(membrane_potential >= self.threshold, tf.ones_like(membrane_potential), tf.zeros_like(membrane_potential))\n",
    "        return spikes"
   ]
  },
  {
   "cell_type": "code",
   "execution_count": 29,
   "id": "e5c42be1-b9c6-45d1-bdbf-76c387ce43f3",
   "metadata": {},
   "outputs": [],
   "source": [
    "model = tf.keras.Sequential([\n",
    "    tf.keras.layers.Flatten(input_shape=(28, 28)),\n",
    "    SNNLayer(num_neurons=256, threshold=0.5),\n",
    "    tf.keras.layers.Dense(10, activation='softmax')\n",
    "])"
   ]
  },
  {
   "cell_type": "code",
   "execution_count": 31,
   "id": "3ce1d4d7-ebd9-4d57-aeb3-15ee42f1dbe8",
   "metadata": {
    "scrolled": true
   },
   "outputs": [
    {
     "name": "stdout",
     "output_type": "stream",
     "text": [
      "Epoch 1/10\n",
      "WARNING:tensorflow:Gradients do not exist for variables ['snn_layer_3/Variable:0'] when minimizing the loss. If you're using `model.compile()`, did you forget to provide a `loss` argument?\n",
      "WARNING:tensorflow:Gradients do not exist for variables ['snn_layer_3/Variable:0'] when minimizing the loss. If you're using `model.compile()`, did you forget to provide a `loss` argument?\n",
      "WARNING:tensorflow:Gradients do not exist for variables ['snn_layer_3/Variable:0'] when minimizing the loss. If you're using `model.compile()`, did you forget to provide a `loss` argument?\n",
      "WARNING:tensorflow:Gradients do not exist for variables ['snn_layer_3/Variable:0'] when minimizing the loss. If you're using `model.compile()`, did you forget to provide a `loss` argument?\n",
      "1875/1875 [==============================] - 2s 1ms/step - loss: 0.4284 - accuracy: 0.8658 - val_loss: 0.4331 - val_accuracy: 0.8652\n",
      "Epoch 2/10\n",
      "1875/1875 [==============================] - 2s 1ms/step - loss: 0.4250 - accuracy: 0.8664 - val_loss: 0.4340 - val_accuracy: 0.8653\n",
      "Epoch 3/10\n",
      "1875/1875 [==============================] - 2s 1ms/step - loss: 0.4225 - accuracy: 0.8670 - val_loss: 0.4357 - val_accuracy: 0.8643\n",
      "Epoch 4/10\n",
      "1875/1875 [==============================] - 2s 1ms/step - loss: 0.4209 - accuracy: 0.8678 - val_loss: 0.4327 - val_accuracy: 0.8650\n",
      "Epoch 5/10\n",
      "1875/1875 [==============================] - 2s 1ms/step - loss: 0.4196 - accuracy: 0.8673 - val_loss: 0.4336 - val_accuracy: 0.8651\n",
      "Epoch 6/10\n",
      "1875/1875 [==============================] - 2s 1ms/step - loss: 0.4185 - accuracy: 0.8682 - val_loss: 0.4361 - val_accuracy: 0.8640\n",
      "Epoch 7/10\n",
      "1875/1875 [==============================] - 2s 1ms/step - loss: 0.4177 - accuracy: 0.8685 - val_loss: 0.4354 - val_accuracy: 0.8645\n",
      "Epoch 8/10\n",
      "1875/1875 [==============================] - 2s 1ms/step - loss: 0.4169 - accuracy: 0.8687 - val_loss: 0.4374 - val_accuracy: 0.8626\n",
      "Epoch 9/10\n",
      "1875/1875 [==============================] - 2s 1ms/step - loss: 0.4164 - accuracy: 0.8690 - val_loss: 0.4364 - val_accuracy: 0.8646\n",
      "Epoch 10/10\n",
      "1875/1875 [==============================] - 2s 1ms/step - loss: 0.4161 - accuracy: 0.8688 - val_loss: 0.4370 - val_accuracy: 0.8650\n"
     ]
    },
    {
     "data": {
      "text/plain": [
       "<keras.callbacks.History at 0x7f9638416ef0>"
      ]
     },
     "execution_count": 31,
     "metadata": {},
     "output_type": "execute_result"
    }
   ],
   "source": [
    "model.compile(optimizer='adam', loss='sparse_categorical_crossentropy', metrics=['accuracy'])\n",
    "model.fit(train_images, train_labels, epochs=10, validation_data=(test_images, test_labels))"
   ]
  },
  {
   "cell_type": "code",
   "execution_count": 32,
   "id": "2871aaf1-5399-418e-98a9-51699363d46f",
   "metadata": {},
   "outputs": [
    {
     "name": "stdout",
     "output_type": "stream",
     "text": [
      "Model: \"sequential_8\"\n",
      "_________________________________________________________________\n",
      " Layer (type)                Output Shape              Param #   \n",
      "=================================================================\n",
      " flatten_6 (Flatten)         (None, 784)               0         \n",
      "                                                                 \n",
      " snn_layer_3 (SNNLayer)      (None, 256)               200704    \n",
      "                                                                 \n",
      " dense_13 (Dense)            (None, 10)                2570      \n",
      "                                                                 \n",
      "=================================================================\n",
      "Total params: 203,274\n",
      "Trainable params: 203,274\n",
      "Non-trainable params: 0\n",
      "_________________________________________________________________\n"
     ]
    }
   ],
   "source": [
    "model.summary()"
   ]
  },
  {
   "cell_type": "code",
   "execution_count": 33,
   "id": "c56441a0-4aa2-4727-90f9-d2775efdc75a",
   "metadata": {},
   "outputs": [],
   "source": [
    "model.save(\"SNN_MNIST.h5\")"
   ]
  },
  {
   "cell_type": "markdown",
   "id": "3494f7a0-ae32-4fb7-9ebc-edc71e7c2335",
   "metadata": {},
   "source": [
    "# hls4ml Config Part"
   ]
  },
  {
   "cell_type": "code",
   "execution_count": 36,
   "id": "ee21fefa-1798-4130-9746-f4d19f46bea3",
   "metadata": {},
   "outputs": [],
   "source": [
    "import hls4ml\n",
    "\n",
    "class SNNLayer(hls4ml.model.layers.Layer):\n",
    "\n",
    "    def initialize(self):\n",
    "        inp = self.get_input_variable()\n",
    "        shape = inp.shape\n",
    "        dims = inp.dim_names\n",
    "        self.add_output_variavle(shape, dims)"
   ]
  },
  {
   "cell_type": "code",
   "execution_count": 35,
   "id": "12950241-e059-424d-b3e4-7da7d5b36c52",
   "metadata": {},
   "outputs": [],
   "source": [
    "def parse_reverse_layer(keras_layer, input_names, input_shapes, data_reader):\n",
    "    layer = {}\n",
    "    layer['class_name'] = 'SNNLayer'\n",
    "    layer['name'] = keras_layer['config']['name']\n",
    "    layer['n_in'] = input_shapes[0][1]\n",
    "\n",
    "    if input_names is not None:\n",
    "        layer['inputs'] = input_names\n",
    "\n",
    "    return layer, [shape for shape in input_shapes[0]]"
   ]
  },
  {
   "cell_type": "code",
   "execution_count": null,
   "id": "5f27556c-7dff-440d-9404-2974acc4418f",
   "metadata": {},
   "outputs": [],
   "source": []
  }
 ],
 "metadata": {
  "kernelspec": {
   "display_name": "Python 3 (ipykernel)",
   "language": "python",
   "name": "python3"
  },
  "language_info": {
   "codemirror_mode": {
    "name": "ipython",
    "version": 3
   },
   "file_extension": ".py",
   "mimetype": "text/x-python",
   "name": "python",
   "nbconvert_exporter": "python",
   "pygments_lexer": "ipython3",
   "version": "3.10.11"
  }
 },
 "nbformat": 4,
 "nbformat_minor": 5
}

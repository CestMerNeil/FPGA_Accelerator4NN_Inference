{
 "cells": [
  {
   "cell_type": "code",
   "execution_count": 1,
   "id": "efc31fd7-d33a-43ef-9457-9ac11db50dfd",
   "metadata": {},
   "outputs": [
    {
     "name": "stderr",
     "output_type": "stream",
     "text": [
      "2023-07-10 01:55:25.455680: I tensorflow/core/platform/cpu_feature_guard.cc:193] This TensorFlow binary is optimized with oneAPI Deep Neural Network Library (oneDNN) to use the following CPU instructions in performance-critical operations:  SSE4.1 SSE4.2 AVX AVX2 FMA\n",
      "To enable them in other operations, rebuild TensorFlow with the appropriate compiler flags.\n"
     ]
    }
   ],
   "source": [
    "import tensorflow as tf\n",
    "import numpy as np\n",
    "from tensorflow.keras import layers\n",
    "from tensorflow.keras.datasets import mnist\n",
    "from tensorflow.keras.utils import to_categorical"
   ]
  },
  {
   "cell_type": "code",
   "execution_count": 2,
   "id": "c20a307f-0a7a-451b-a6e8-b34dea73315f",
   "metadata": {},
   "outputs": [],
   "source": [
    "(x_train, y_train), (x_test, y_test) = mnist.load_data()\n",
    "x_train = x_train.reshape(-1, 784).astype(\"float32\") / 255.0\n",
    "x_test = x_test.reshape(-1, 784).astype(\"float32\") / 255.0\n",
    "y_train = to_categorical(y_train, num_classes=10)\n",
    "y_test = to_categorical(y_test, num_classes=10)"
   ]
  },
  {
   "cell_type": "markdown",
   "id": "62290eda-8784-49dd-812c-2c0e395f0ac6",
   "metadata": {},
   "source": [
    "# Define the SNN layer"
   ]
  },
  {
   "cell_type": "code",
   "execution_count": 17,
   "id": "162c7264-9090-4670-a74a-88fcf239bdd1",
   "metadata": {},
   "outputs": [],
   "source": [
    "class SpikingLayer(layers.Layer):\n",
    "    def __init__(self, num_neurons, **kwargs):\n",
    "        super(SpikingLayer, self).__init__(**kwargs)\n",
    "        self.num_neurons = num_neurons\n",
    "\n",
    "    def build(self, input_shape):\n",
    "        self.threshold = self.add_weight(\n",
    "            shape=(input_shape[-1],),\n",
    "            initializer=\"zeros\",\n",
    "            trainable=False,\n",
    "            name=\"threshold\"\n",
    "        )\n",
    "\n",
    "    def call(self, inputs):\n",
    "        spiking_output = tf.nn.relu(inputs - self.threshold)\n",
    "        self.threshold.assign_add(tf.reduce_mean(spiking_output, axis=0))\n",
    "        return spiking_output"
   ]
  },
  {
   "cell_type": "code",
   "execution_count": 21,
   "id": "e5c42be1-b9c6-45d1-bdbf-76c387ce43f3",
   "metadata": {},
   "outputs": [],
   "source": [
    "model = tf.keras.Sequential([\n",
    "    layers.Input(shape=(784,)),\n",
    "    SpikingLayer(num_neurons=64),\n",
    "    SpikingLayer(num_neurons=128),\n",
    "    SpikingLayer(num_neurons=256),\n",
    "    layers.Dense(\n",
    "        10, \n",
    "        activation=\"softmax\",\n",
    "        name = \"output\"\n",
    "    )\n",
    "])"
   ]
  },
  {
   "cell_type": "code",
   "execution_count": 23,
   "id": "3ce1d4d7-ebd9-4d57-aeb3-15ee42f1dbe8",
   "metadata": {
    "scrolled": true
   },
   "outputs": [
    {
     "name": "stdout",
     "output_type": "stream",
     "text": [
      "Epoch 1/20\n",
      "6/6 [==============================] - 1s 67ms/step - loss: 2.3017 - accuracy: 0.1069 - val_loss: 2.3018 - val_accuracy: 0.1042\n",
      "Epoch 2/20\n",
      "6/6 [==============================] - 0s 41ms/step - loss: 2.3014 - accuracy: 0.1078 - val_loss: 2.3016 - val_accuracy: 0.1043\n",
      "Epoch 3/20\n",
      "6/6 [==============================] - 0s 41ms/step - loss: 2.3011 - accuracy: 0.1083 - val_loss: 2.3014 - val_accuracy: 0.1045\n",
      "Epoch 4/20\n",
      "6/6 [==============================] - 0s 41ms/step - loss: 2.3009 - accuracy: 0.1136 - val_loss: 2.3012 - val_accuracy: 0.1227\n",
      "Epoch 5/20\n",
      "6/6 [==============================] - 0s 41ms/step - loss: 2.3007 - accuracy: 0.1264 - val_loss: 2.3010 - val_accuracy: 0.1223\n",
      "Epoch 6/20\n",
      "6/6 [==============================] - 0s 42ms/step - loss: 2.3005 - accuracy: 0.1261 - val_loss: 2.3008 - val_accuracy: 0.1221\n",
      "Epoch 7/20\n",
      "6/6 [==============================] - 0s 41ms/step - loss: 2.3003 - accuracy: 0.1260 - val_loss: 2.3007 - val_accuracy: 0.1222\n",
      "Epoch 8/20\n",
      "6/6 [==============================] - 0s 43ms/step - loss: 2.3002 - accuracy: 0.1253 - val_loss: 2.3006 - val_accuracy: 0.1218\n",
      "Epoch 9/20\n",
      "6/6 [==============================] - 0s 42ms/step - loss: 2.3000 - accuracy: 0.1245 - val_loss: 2.3004 - val_accuracy: 0.1218\n",
      "Epoch 10/20\n",
      "6/6 [==============================] - 0s 41ms/step - loss: 2.2999 - accuracy: 0.1241 - val_loss: 2.3003 - val_accuracy: 0.1213\n",
      "Epoch 11/20\n",
      "6/6 [==============================] - 0s 43ms/step - loss: 2.2998 - accuracy: 0.1238 - val_loss: 2.3002 - val_accuracy: 0.1212\n",
      "Epoch 12/20\n",
      "6/6 [==============================] - 0s 42ms/step - loss: 2.2996 - accuracy: 0.1235 - val_loss: 2.3001 - val_accuracy: 0.1212\n",
      "Epoch 13/20\n",
      "6/6 [==============================] - 0s 42ms/step - loss: 2.2996 - accuracy: 0.1234 - val_loss: 2.3001 - val_accuracy: 0.1210\n",
      "Epoch 14/20\n",
      "6/6 [==============================] - 0s 42ms/step - loss: 2.2995 - accuracy: 0.1233 - val_loss: 2.3000 - val_accuracy: 0.1206\n",
      "Epoch 15/20\n",
      "6/6 [==============================] - 0s 41ms/step - loss: 2.2994 - accuracy: 0.1228 - val_loss: 2.2999 - val_accuracy: 0.1206\n",
      "Epoch 16/20\n",
      "6/6 [==============================] - 0s 42ms/step - loss: 2.2993 - accuracy: 0.1227 - val_loss: 2.2999 - val_accuracy: 0.1206\n",
      "Epoch 17/20\n",
      "6/6 [==============================] - 0s 41ms/step - loss: 2.2992 - accuracy: 0.1225 - val_loss: 2.2998 - val_accuracy: 0.1207\n",
      "Epoch 18/20\n",
      "6/6 [==============================] - 0s 38ms/step - loss: 2.2992 - accuracy: 0.1223 - val_loss: 2.2997 - val_accuracy: 0.1206\n",
      "Epoch 19/20\n",
      "6/6 [==============================] - 0s 37ms/step - loss: 2.2991 - accuracy: 0.1222 - val_loss: 2.2997 - val_accuracy: 0.1205\n",
      "Epoch 20/20\n",
      "6/6 [==============================] - 0s 42ms/step - loss: 2.2991 - accuracy: 0.1222 - val_loss: 2.2997 - val_accuracy: 0.1205\n",
      "313/313 [==============================] - 0s 889us/step - loss: 2.3000 - accuracy: 0.1190\n",
      "Test Loss: 2.300018548965454\n",
      "Test Accuracy: 0.11900000274181366\n"
     ]
    }
   ],
   "source": [
    "adam = tf.keras.optimizers.Adam(\n",
    "    learning_rate = 0.001\n",
    ")\n",
    "\n",
    "model.compile(\n",
    "    optimizer=\"adam\", \n",
    "    loss=tf.keras.losses.CategoricalCrossentropy(from_logits=True), \n",
    "    metrics=[\"accuracy\"]\n",
    ")\n",
    "\n",
    "model.fit(\n",
    "    x_train, \n",
    "    y_train, \n",
    "    batch_size=10240, \n",
    "    epochs=20, \n",
    "    validation_data=(x_test, y_test),\n",
    "    verbose = 1\n",
    ")\n",
    "\n",
    "test_loss, test_acc = model.evaluate(x_test, y_test)\n",
    "print(\"Test Loss:\", test_loss)\n",
    "print(\"Test Accuracy:\", test_acc)"
   ]
  },
  {
   "cell_type": "code",
   "execution_count": 25,
   "id": "2871aaf1-5399-418e-98a9-51699363d46f",
   "metadata": {},
   "outputs": [
    {
     "name": "stdout",
     "output_type": "stream",
     "text": [
      "Model: \"sequential_3\"\n",
      "_________________________________________________________________\n",
      " Layer (type)                Output Shape              Param #   \n",
      "=================================================================\n",
      " spiking_layer_7 (SpikingLay  (None, 784)              784       \n",
      " er)                                                             \n",
      "                                                                 \n",
      " spiking_layer_8 (SpikingLay  (None, 784)              784       \n",
      " er)                                                             \n",
      "                                                                 \n",
      " spiking_layer_9 (SpikingLay  (None, 784)              784       \n",
      " er)                                                             \n",
      "                                                                 \n",
      " output (Dense)              (None, 10)                7850      \n",
      "                                                                 \n",
      "=================================================================\n",
      "Total params: 10,202\n",
      "Trainable params: 7,850\n",
      "Non-trainable params: 2,352\n",
      "_________________________________________________________________\n"
     ]
    }
   ],
   "source": [
    "model.summary()"
   ]
  },
  {
   "cell_type": "code",
   "execution_count": 7,
   "id": "c56441a0-4aa2-4727-90f9-d2775efdc75a",
   "metadata": {},
   "outputs": [],
   "source": [
    "model.save(\"SNN_MNIST.h5\")"
   ]
  },
  {
   "cell_type": "markdown",
   "id": "3494f7a0-ae32-4fb7-9ebc-edc71e7c2335",
   "metadata": {},
   "source": [
    "# hls4ml Config Part"
   ]
  },
  {
   "cell_type": "code",
   "execution_count": 8,
   "id": "806c5a81-b70e-4a4e-bef8-63ef6bd35d5b",
   "metadata": {},
   "outputs": [],
   "source": [
    "from tensorflow.keras.models import load_model\n",
    "\n",
    "model = load_model(\"SNN_MNIST.h5\", custom_objects={'SpikingLayer': SpikingLayer})"
   ]
  },
  {
   "cell_type": "code",
   "execution_count": 9,
   "id": "5a42b167-3ed3-44cd-9dd4-fea625f9bb41",
   "metadata": {},
   "outputs": [
    {
     "name": "stdout",
     "output_type": "stream",
     "text": [
      "313/313 [==============================] - 0s 769us/step - loss: 2.3006 - accuracy: 0.1051\n",
      "Test Loss: 2.300551176071167\n",
      "Test Accuracy: 0.10509999841451645\n",
      "Model: \"sequential\"\n",
      "_________________________________________________________________\n",
      " Layer (type)                Output Shape              Param #   \n",
      "=================================================================\n",
      " spiking_layer (SpikingLayer  (None, 784)              784       \n",
      " )                                                               \n",
      "                                                                 \n",
      " output (Dense)              (None, 10)                7850      \n",
      "                                                                 \n",
      "=================================================================\n",
      "Total params: 8,634\n",
      "Trainable params: 7,850\n",
      "Non-trainable params: 784\n",
      "_________________________________________________________________\n"
     ]
    }
   ],
   "source": [
    "test_loss, test_acc = model.evaluate(x_test, y_test)\n",
    "print(\"Test Loss:\", test_loss)\n",
    "print(\"Test Accuracy:\", test_acc)\n",
    "model.summary()"
   ]
  },
  {
   "cell_type": "code",
   "execution_count": 10,
   "id": "ee21fefa-1798-4130-9746-f4d19f46bea3",
   "metadata": {},
   "outputs": [],
   "source": [
    "import hls4ml\n",
    "\n",
    "class HSpikingLayer(hls4ml.model.layers.Layer):\n",
    "    '''\n",
    "    def __init__(self, name, attributes, inputs, outputs):\n",
    "        super().__init__()\n",
    "    '''\n",
    "    def initialize(self):\n",
    "        inp = self.get_input_variable()\n",
    "        shape = inp.shape\n",
    "        dims = inp.dim_names\n",
    "        self.add_output_variable(shape, dims)\n",
    "        self.threshold = self.create_local_variable(shape=(shape[-1],), dtype=inp.dtype, name='threshold')\n",
    "\n",
    "    def function_cpp(self):\n",
    "        input_var = self.get_input_variable_cpp()\n",
    "        output_var = self.get_output_variable_cpp()\n",
    "\n",
    "        cpp_code = f'''\n",
    "        // Calculate spiking output\n",
    "        {output_var} = relu({input_var} - {self.threshold});\n",
    "        // Update threshold\n",
    "        {self.threshold} += hls4ml::math::reduce_mean({output_var}, {output_var}.size());\n",
    "        '''\n",
    "        return cpp_code"
   ]
  },
  {
   "cell_type": "code",
   "execution_count": 11,
   "id": "12950241-e059-424d-b3e4-7da7d5b36c52",
   "metadata": {},
   "outputs": [],
   "source": [
    "def parse_spiking_layer(keras_layer, input_names, input_shapes, data_reader):\n",
    "    layer = {}\n",
    "    layer['class_name'] = 'HSpikingLayer'  # 自定义层的hls4ml层名称\n",
    "    layer['name'] = keras_layer['config']['name']\n",
    "    layer['num_neurons'] = keras_layer['config']['num_neurons']\n",
    "\n",
    "    if input_names is not None:\n",
    "        layer['inputs'] = input_names\n",
    "\n",
    "    return layer, input_shapes"
   ]
  },
  {
   "cell_type": "code",
   "execution_count": 12,
   "id": "1ea8eac0-de2a-4d9a-a393-9f02c6d0facd",
   "metadata": {},
   "outputs": [],
   "source": [
    "def register_custom_layer():\n",
    "    hls4ml.converters.register_keras_layer_handler('SpikingLayer', parse_spiking_layer)\n",
    "    hls4ml.model.layers.register_layer('HSpikingLayer', HSpikingLayer)"
   ]
  },
  {
   "cell_type": "code",
   "execution_count": 13,
   "id": "f54dd6b0-34f6-49cc-be75-af0d7a0520dd",
   "metadata": {},
   "outputs": [],
   "source": [
    "register_custom_layer()"
   ]
  },
  {
   "cell_type": "code",
   "execution_count": 14,
   "id": "e527ce2c-5aa7-45d1-80cb-10cf472a0413",
   "metadata": {
    "scrolled": true
   },
   "outputs": [
    {
     "name": "stdout",
     "output_type": "stream",
     "text": [
      "Interpreting Sequential\n",
      "Topology:\n",
      "Layer name: input_1, layer type: InputLayer, input shapes: [[None, 784]], output shape: [None, 784]\n",
      "Layer name: spiking_layer, layer type: HSpikingLayer, input shapes: [[None, 784]], output shape: [[None, 784]]\n",
      "Layer name: output, layer type: Dense, input shapes: [[[None, 784]]], output shape: [10]\n",
      "-----------------------------------\n",
      "Model\n",
      "  Precision:         ap_fixed<12,6>\n",
      "  ReuseFactor:       1\n",
      "  Strategy:          Latency\n",
      "  BramFactor:        1000000000\n",
      "  TraceOutput:       False\n",
      "LayerName\n",
      "  input_1\n",
      "    Trace:           False\n",
      "    Precision\n",
      "      result:        fixed<16,6>\n",
      "  spiking_layer\n",
      "    Trace:           False\n",
      "    Precision\n",
      "      result:        fixed<16,6>\n",
      "  output\n",
      "    Trace:           False\n",
      "    Precision\n",
      "      result:        fixed<16,6>\n",
      "      weight:        fixed<16,6>\n",
      "      bias:          fixed<16,6>\n",
      "    Strategy:        Stable\n",
      "  output_softmax\n",
      "    Trace:           False\n",
      "    Precision\n",
      "      result:        fixed<16,6>\n",
      "-----------------------------------\n",
      "Interpreting Sequential\n",
      "Topology:\n",
      "Layer name: input_1, layer type: InputLayer, input shapes: [[None, 784]], output shape: [None, 784]\n",
      "Layer name: spiking_layer, layer type: HSpikingLayer, input shapes: [[None, 784]], output shape: [[None, 784]]\n",
      "Layer name: output, layer type: Dense, input shapes: [[[None, 784]]], output shape: [10]\n",
      "Creating HLS model\n"
     ]
    },
    {
     "ename": "AttributeError",
     "evalue": "'VivadoAcceleratorHSpikingLayer' object has no attribute 'create_local_variable'",
     "output_type": "error",
     "traceback": [
      "\u001b[0;31m---------------------------------------------------------------------------\u001b[0m",
      "\u001b[0;31mAttributeError\u001b[0m                            Traceback (most recent call last)",
      "Cell \u001b[0;32mIn[14], line 30\u001b[0m\n\u001b[1;32m     27\u001b[0m cfg[\u001b[38;5;124m'\u001b[39m\u001b[38;5;124mOutputDir\u001b[39m\u001b[38;5;124m'\u001b[39m] \u001b[38;5;241m=\u001b[39m \u001b[38;5;124m'\u001b[39m\u001b[38;5;124mAlexNet_PYNQ\u001b[39m\u001b[38;5;124m'\u001b[39m\n\u001b[1;32m     28\u001b[0m cfg[\u001b[38;5;124m'\u001b[39m\u001b[38;5;124mBoard\u001b[39m\u001b[38;5;124m'\u001b[39m] \u001b[38;5;241m=\u001b[39m \u001b[38;5;124m'\u001b[39m\u001b[38;5;124mpynq-z2\u001b[39m\u001b[38;5;124m'\u001b[39m\n\u001b[0;32m---> 30\u001b[0m hls_model \u001b[38;5;241m=\u001b[39m \u001b[43mhls4ml\u001b[49m\u001b[38;5;241;43m.\u001b[39;49m\u001b[43mconverters\u001b[49m\u001b[38;5;241;43m.\u001b[39;49m\u001b[43mkeras_to_hls\u001b[49m\u001b[43m(\u001b[49m\u001b[43mcfg\u001b[49m\u001b[43m)\u001b[49m\n\u001b[1;32m     32\u001b[0m hls_model\u001b[38;5;241m.\u001b[39mcompile()\n",
      "File \u001b[0;32m/opt/conda/lib/python3.10/site-packages/hls4ml/converters/keras_to_hls.py:314\u001b[0m, in \u001b[0;36mkeras_to_hls\u001b[0;34m(config)\u001b[0m\n\u001b[1;32m    312\u001b[0m layer_list, input_layers, output_layers \u001b[38;5;241m=\u001b[39m parse_keras_model(model_arch, reader)\n\u001b[1;32m    313\u001b[0m \u001b[38;5;28mprint\u001b[39m(\u001b[38;5;124m'\u001b[39m\u001b[38;5;124mCreating HLS model\u001b[39m\u001b[38;5;124m'\u001b[39m)\n\u001b[0;32m--> 314\u001b[0m hls_model \u001b[38;5;241m=\u001b[39m \u001b[43mModelGraph\u001b[49m\u001b[43m(\u001b[49m\u001b[43mconfig\u001b[49m\u001b[43m,\u001b[49m\u001b[43m \u001b[49m\u001b[43mreader\u001b[49m\u001b[43m,\u001b[49m\u001b[43m \u001b[49m\u001b[43mlayer_list\u001b[49m\u001b[43m,\u001b[49m\u001b[43m \u001b[49m\u001b[43minput_layers\u001b[49m\u001b[43m,\u001b[49m\u001b[43m \u001b[49m\u001b[43moutput_layers\u001b[49m\u001b[43m)\u001b[49m\n\u001b[1;32m    315\u001b[0m \u001b[38;5;28;01mreturn\u001b[39;00m hls_model\n",
      "File \u001b[0;32m/opt/conda/lib/python3.10/site-packages/hls4ml/model/graph.py:355\u001b[0m, in \u001b[0;36mModelGraph.__init__\u001b[0;34m(self, config, data_reader, layer_list, inputs, outputs)\u001b[0m\n\u001b[1;32m    351\u001b[0m \u001b[38;5;28mself\u001b[39m\u001b[38;5;241m.\u001b[39moutput_vars \u001b[38;5;241m=\u001b[39m {}\n\u001b[1;32m    353\u001b[0m \u001b[38;5;28mself\u001b[39m\u001b[38;5;241m.\u001b[39m_top_function_lib \u001b[38;5;241m=\u001b[39m \u001b[38;5;28;01mNone\u001b[39;00m\n\u001b[0;32m--> 355\u001b[0m \u001b[38;5;28;43mself\u001b[39;49m\u001b[38;5;241;43m.\u001b[39;49m\u001b[43m_make_graph\u001b[49m\u001b[43m(\u001b[49m\u001b[43mlayer_list\u001b[49m\u001b[43m)\u001b[49m\n\u001b[1;32m    357\u001b[0m \u001b[38;5;28;01mfor\u001b[39;00m flow \u001b[38;5;129;01min\u001b[39;00m \u001b[38;5;28mself\u001b[39m\u001b[38;5;241m.\u001b[39mconfig\u001b[38;5;241m.\u001b[39mflows:\n\u001b[1;32m    358\u001b[0m     \u001b[38;5;28mself\u001b[39m\u001b[38;5;241m.\u001b[39mapply_flow(flow)\n",
      "File \u001b[0;32m/opt/conda/lib/python3.10/site-packages/hls4ml/model/graph.py:380\u001b[0m, in \u001b[0;36mModelGraph._make_graph\u001b[0;34m(self, layer_list)\u001b[0m\n\u001b[1;32m    377\u001b[0m \u001b[38;5;28;01mif\u001b[39;00m \u001b[38;5;28mlen\u001b[39m(outputs) \u001b[38;5;241m==\u001b[39m \u001b[38;5;241m0\u001b[39m:\n\u001b[1;32m    378\u001b[0m     outputs \u001b[38;5;241m=\u001b[39m [name]\n\u001b[0;32m--> 380\u001b[0m \u001b[38;5;28mself\u001b[39m\u001b[38;5;241m.\u001b[39mgraph[name] \u001b[38;5;241m=\u001b[39m \u001b[38;5;28;43mself\u001b[39;49m\u001b[38;5;241;43m.\u001b[39;49m\u001b[43mmake_node\u001b[49m\u001b[43m(\u001b[49m\u001b[43mkind\u001b[49m\u001b[43m,\u001b[49m\u001b[43m \u001b[49m\u001b[43mname\u001b[49m\u001b[43m,\u001b[49m\u001b[43m \u001b[49m\u001b[43mlayer\u001b[49m\u001b[43m,\u001b[49m\u001b[43m \u001b[49m\u001b[43minputs\u001b[49m\u001b[43m,\u001b[49m\u001b[43m \u001b[49m\u001b[43moutputs\u001b[49m\u001b[43m)\u001b[49m\n",
      "File \u001b[0;32m/opt/conda/lib/python3.10/site-packages/hls4ml/model/graph.py:467\u001b[0m, in \u001b[0;36mModelGraph.make_node\u001b[0;34m(self, kind, name, attributes, inputs, outputs)\u001b[0m\n\u001b[1;32m    465\u001b[0m \u001b[38;5;28;01mif\u001b[39;00m \u001b[38;5;28mself\u001b[39m\u001b[38;5;241m.\u001b[39mconfig\u001b[38;5;241m.\u001b[39mbackend \u001b[38;5;129;01mis\u001b[39;00m \u001b[38;5;129;01mnot\u001b[39;00m \u001b[38;5;28;01mNone\u001b[39;00m:\n\u001b[1;32m    466\u001b[0m     layer_cls \u001b[38;5;241m=\u001b[39m \u001b[38;5;28mself\u001b[39m\u001b[38;5;241m.\u001b[39mconfig\u001b[38;5;241m.\u001b[39mbackend\u001b[38;5;241m.\u001b[39mcreate_layer_class(layer_cls)\n\u001b[0;32m--> 467\u001b[0m node \u001b[38;5;241m=\u001b[39m \u001b[43mlayer_cls\u001b[49m\u001b[43m(\u001b[49m\u001b[38;5;28;43mself\u001b[39;49m\u001b[43m,\u001b[49m\u001b[43m \u001b[49m\u001b[43mname\u001b[49m\u001b[43m,\u001b[49m\u001b[43m \u001b[49m\u001b[43mattributes\u001b[49m\u001b[43m,\u001b[49m\u001b[43m \u001b[49m\u001b[43minputs\u001b[49m\u001b[43m,\u001b[49m\u001b[43m \u001b[49m\u001b[43moutputs\u001b[49m\u001b[43m)\u001b[49m\n\u001b[1;32m    468\u001b[0m \u001b[38;5;28;01mfor\u001b[39;00m o \u001b[38;5;129;01min\u001b[39;00m node\u001b[38;5;241m.\u001b[39moutputs:\n\u001b[1;32m    469\u001b[0m     out_var \u001b[38;5;241m=\u001b[39m node\u001b[38;5;241m.\u001b[39mget_output_variable(output_name\u001b[38;5;241m=\u001b[39mo)\n",
      "File \u001b[0;32m/opt/conda/lib/python3.10/site-packages/hls4ml/model/layers.py:118\u001b[0m, in \u001b[0;36mLayer.__init__\u001b[0;34m(self, model, name, attributes, inputs, outputs)\u001b[0m\n\u001b[1;32m    115\u001b[0m         config_value \u001b[38;5;241m=\u001b[39m NamedType(\u001b[38;5;28mself\u001b[39m\u001b[38;5;241m.\u001b[39mname \u001b[38;5;241m+\u001b[39m \u001b[38;5;124m'\u001b[39m\u001b[38;5;124m_\u001b[39m\u001b[38;5;124m'\u001b[39m \u001b[38;5;241m+\u001b[39m config_key, precision)\n\u001b[1;32m    116\u001b[0m     \u001b[38;5;28mself\u001b[39m\u001b[38;5;241m.\u001b[39mattributes[config_key] \u001b[38;5;241m=\u001b[39m config_value\n\u001b[0;32m--> 118\u001b[0m \u001b[38;5;28;43mself\u001b[39;49m\u001b[38;5;241;43m.\u001b[39;49m\u001b[43minitialize\u001b[49m\u001b[43m(\u001b[49m\u001b[43m)\u001b[49m\n\u001b[1;32m    119\u001b[0m \u001b[38;5;28mself\u001b[39m\u001b[38;5;241m.\u001b[39m_validate_attributes()\n",
      "Cell \u001b[0;32mIn[10], line 13\u001b[0m, in \u001b[0;36mHSpikingLayer.initialize\u001b[0;34m(self)\u001b[0m\n\u001b[1;32m     11\u001b[0m dims \u001b[38;5;241m=\u001b[39m inp\u001b[38;5;241m.\u001b[39mdim_names\n\u001b[1;32m     12\u001b[0m \u001b[38;5;28mself\u001b[39m\u001b[38;5;241m.\u001b[39madd_output_variable(shape, dims)\n\u001b[0;32m---> 13\u001b[0m \u001b[38;5;28mself\u001b[39m\u001b[38;5;241m.\u001b[39mthreshold \u001b[38;5;241m=\u001b[39m \u001b[38;5;28;43mself\u001b[39;49m\u001b[38;5;241;43m.\u001b[39;49m\u001b[43mcreate_local_variable\u001b[49m(shape\u001b[38;5;241m=\u001b[39m(shape[\u001b[38;5;241m-\u001b[39m\u001b[38;5;241m1\u001b[39m],), dtype\u001b[38;5;241m=\u001b[39minp\u001b[38;5;241m.\u001b[39mdtype, name\u001b[38;5;241m=\u001b[39m\u001b[38;5;124m'\u001b[39m\u001b[38;5;124mthreshold\u001b[39m\u001b[38;5;124m'\u001b[39m)\n",
      "\u001b[0;31mAttributeError\u001b[0m: 'VivadoAcceleratorHSpikingLayer' object has no attribute 'create_local_variable'"
     ]
    }
   ],
   "source": [
    "import hls4ml\n",
    "import plotting\n",
    "\n",
    "config = hls4ml.utils.config_from_keras_model(model, granularity='name')\n",
    "#config['InputShape'] = {'spiking_layer_input': (None, 784)}\n",
    "config['Model']['Precision'] = 'ap_fixed<12,6>'\n",
    "config['Model']['ReuseFactor'] = 1\n",
    "'''\n",
    "for Layer in config['LayerName'].keys():\n",
    "    config['LayerName'][Layer]['Strategy'] = 'Latency'\n",
    "    config['LayerName'][Layer]['ReuseFactor'] = 1\n",
    "    #config['LayerName'][Layer]['Precision'] = 'ap_fixed<8,4>'\n",
    "'''\n",
    "config['LayerName']['output']['Strategy'] = 'Stable'\n",
    "'''\n",
    "for layer in ['conv1', 'conv2'] :\n",
    "    config['LayerName'][layer]['Precision'] = 'ap_fixed<8,4>'\n",
    "'''\n",
    "print(\"-----------------------------------\")\n",
    "plotting.print_dict(config)\n",
    "print(\"-----------------------------------\")\n",
    "\n",
    "cfg = hls4ml.converters.create_config(backend='VivadoAccelerator')\n",
    "cfg['IOType'] = 'io_stream'\n",
    "cfg['HLSConfig'] = config\n",
    "cfg['KerasModel'] = model\n",
    "cfg['OutputDir'] = 'AlexNet_PYNQ'\n",
    "cfg['Board'] = 'pynq-z2'\n",
    "\n",
    "hls_model = hls4ml.converters.keras_to_hls(cfg)\n",
    "\n",
    "hls_model.compile()"
   ]
  },
  {
   "cell_type": "code",
   "execution_count": null,
   "id": "4223b376-e1f8-4244-b023-e7ca7222589d",
   "metadata": {},
   "outputs": [],
   "source": [
    "import os\n",
    "\n",
    "os.environ['PATH'] = os.environ['XILINX_VIVADO'] + '/bin:' + os.environ['PATH']\n",
    "os.environ['LD_PRELOAD'] = '/lib/x86_64-linux-gnu/libudev.so.1'"
   ]
  },
  {
   "cell_type": "code",
   "execution_count": null,
   "id": "62182d24-d57c-4cad-84d9-596e36577e76",
   "metadata": {
    "scrolled": true
   },
   "outputs": [],
   "source": [
    "hls_model.build(csim=False, export=True, bitfile=True)"
   ]
  },
  {
   "cell_type": "code",
   "execution_count": null,
   "id": "699f4d01-5f07-46d9-9174-c9ff923340a7",
   "metadata": {},
   "outputs": [],
   "source": [
    "!sed -n '30,45p' AlexNet_Alveo50/myproject_vivado_accelerator/project_1.runs/impl_1/design_1_wrapper_utilization_placed.rpt"
   ]
  },
  {
   "cell_type": "code",
   "execution_count": null,
   "id": "89676b8a-2d65-4dda-bb66-79e011d6064f",
   "metadata": {},
   "outputs": [],
   "source": []
  }
 ],
 "metadata": {
  "kernelspec": {
   "display_name": "Python 3 (ipykernel)",
   "language": "python",
   "name": "python3"
  },
  "language_info": {
   "codemirror_mode": {
    "name": "ipython",
    "version": 3
   },
   "file_extension": ".py",
   "mimetype": "text/x-python",
   "name": "python",
   "nbconvert_exporter": "python",
   "pygments_lexer": "ipython3",
   "version": "3.10.11"
  }
 },
 "nbformat": 4,
 "nbformat_minor": 5
}

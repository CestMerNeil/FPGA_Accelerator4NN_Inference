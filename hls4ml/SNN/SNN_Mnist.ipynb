{
 "cells": [
  {
   "cell_type": "code",
   "execution_count": 46,
   "id": "efc31fd7-d33a-43ef-9457-9ac11db50dfd",
   "metadata": {},
   "outputs": [],
   "source": [
    "import tensorflow as tf\n",
    "import numpy as np\n",
    "from tensorflow.keras.datasets import mnist\n",
    "from tensorflow.keras.utils import to_categorical"
   ]
  },
  {
   "cell_type": "code",
   "execution_count": 47,
   "id": "c20a307f-0a7a-451b-a6e8-b34dea73315f",
   "metadata": {},
   "outputs": [],
   "source": [
    "(x_train, y_train), (x_test, y_test) = mnist.load_data()\n",
    "x_train = x_train.reshape(-1, 784).astype(\"float32\") / 255.0\n",
    "x_test = x_test.reshape(-1, 784).astype(\"float32\") / 255.0\n",
    "y_train = to_categorical(y_train, num_classes=10)\n",
    "y_test = to_categorical(y_test, num_classes=10)"
   ]
  },
  {
   "cell_type": "markdown",
   "id": "62290eda-8784-49dd-812c-2c0e395f0ac6",
   "metadata": {},
   "source": [
    "# Define the SNN layer"
   ]
  },
  {
   "cell_type": "code",
   "execution_count": 48,
   "id": "162c7264-9090-4670-a74a-88fcf239bdd1",
   "metadata": {},
   "outputs": [],
   "source": [
    "class SpikingLayer(tf.keras.layers.Layer):\n",
    "    def __init__(self, units):\n",
    "        super(SpikingLayer, self).__init__()\n",
    "        self.units = units\n",
    "\n",
    "    def build(self, input_shape):\n",
    "        self.kernel = self.add_weight(\"kernel\", shape=[input_shape[-1], self.units])\n",
    "\n",
    "    def call(self, inputs):\n",
    "        spikes = tf.cast(inputs > 0, dtype=tf.float32)\n",
    "        output = tf.matmul(spikes, self.kernel)\n",
    "        return output"
   ]
  },
  {
   "cell_type": "code",
   "execution_count": 49,
   "id": "e5c42be1-b9c6-45d1-bdbf-76c387ce43f3",
   "metadata": {},
   "outputs": [],
   "source": [
    "model = tf.keras.Sequential([\n",
    "    SpikingLayer(64),\n",
    "    SpikingLayer(32),\n",
    "    SpikingLayer(10)\n",
    "])"
   ]
  },
  {
   "cell_type": "code",
   "execution_count": 50,
   "id": "3ce1d4d7-ebd9-4d57-aeb3-15ee42f1dbe8",
   "metadata": {
    "scrolled": true
   },
   "outputs": [
    {
     "name": "stdout",
     "output_type": "stream",
     "text": [
      "Epoch 1/100\n",
      "WARNING:tensorflow:Gradients do not exist for variables ['spiking_layer/kernel:0', 'spiking_layer_1/kernel:0'] when minimizing the loss. If you're using `model.compile()`, did you forget to provide a `loss` argument?\n",
      "WARNING:tensorflow:Gradients do not exist for variables ['spiking_layer/kernel:0', 'spiking_layer_1/kernel:0'] when minimizing the loss. If you're using `model.compile()`, did you forget to provide a `loss` argument?\n",
      "WARNING:tensorflow:Gradients do not exist for variables ['spiking_layer/kernel:0', 'spiking_layer_1/kernel:0'] when minimizing the loss. If you're using `model.compile()`, did you forget to provide a `loss` argument?\n",
      "WARNING:tensorflow:Gradients do not exist for variables ['spiking_layer/kernel:0', 'spiking_layer_1/kernel:0'] when minimizing the loss. If you're using `model.compile()`, did you forget to provide a `loss` argument?\n",
      "1875/1875 [==============================] - 2s 1ms/step - loss: 1.9288 - accuracy: 0.3374 - val_loss: 1.7185 - val_accuracy: 0.4259\n",
      "Epoch 2/100\n",
      "1875/1875 [==============================] - 2s 1ms/step - loss: 1.6721 - accuracy: 0.4284 - val_loss: 1.6435 - val_accuracy: 0.4426\n",
      "Epoch 3/100\n",
      "1875/1875 [==============================] - 2s 1ms/step - loss: 1.6329 - accuracy: 0.4357 - val_loss: 1.6240 - val_accuracy: 0.4464\n",
      "Epoch 4/100\n",
      "1875/1875 [==============================] - 2s 1ms/step - loss: 1.6210 - accuracy: 0.4390 - val_loss: 1.6177 - val_accuracy: 0.4499\n",
      "Epoch 5/100\n",
      "1875/1875 [==============================] - 2s 1ms/step - loss: 1.6159 - accuracy: 0.4406 - val_loss: 1.6148 - val_accuracy: 0.4450\n",
      "Epoch 6/100\n",
      "1875/1875 [==============================] - 2s 1ms/step - loss: 1.6133 - accuracy: 0.4418 - val_loss: 1.6102 - val_accuracy: 0.4498\n",
      "Epoch 7/100\n",
      "1875/1875 [==============================] - 2s 1ms/step - loss: 1.6117 - accuracy: 0.4419 - val_loss: 1.6100 - val_accuracy: 0.4505\n",
      "Epoch 8/100\n",
      "1875/1875 [==============================] - 2s 1ms/step - loss: 1.6104 - accuracy: 0.4428 - val_loss: 1.6073 - val_accuracy: 0.4483\n",
      "Epoch 9/100\n",
      "1875/1875 [==============================] - 2s 1ms/step - loss: 1.6094 - accuracy: 0.4429 - val_loss: 1.6068 - val_accuracy: 0.4489\n",
      "Epoch 10/100\n",
      "1875/1875 [==============================] - 2s 1ms/step - loss: 1.6090 - accuracy: 0.4433 - val_loss: 1.6067 - val_accuracy: 0.4496\n",
      "Epoch 11/100\n",
      "1875/1875 [==============================] - 2s 1ms/step - loss: 1.6083 - accuracy: 0.4430 - val_loss: 1.6048 - val_accuracy: 0.4522\n",
      "Epoch 12/100\n",
      "1875/1875 [==============================] - 2s 1ms/step - loss: 1.6075 - accuracy: 0.4441 - val_loss: 1.6042 - val_accuracy: 0.4522\n",
      "Epoch 13/100\n",
      "1875/1875 [==============================] - 2s 1ms/step - loss: 1.6074 - accuracy: 0.4441 - val_loss: 1.6042 - val_accuracy: 0.4508\n",
      "Epoch 14/100\n",
      "1875/1875 [==============================] - 2s 1ms/step - loss: 1.6071 - accuracy: 0.4436 - val_loss: 1.6042 - val_accuracy: 0.4522\n",
      "Epoch 15/100\n",
      "1875/1875 [==============================] - 2s 1ms/step - loss: 1.6066 - accuracy: 0.4442 - val_loss: 1.6040 - val_accuracy: 0.4520\n",
      "Epoch 16/100\n",
      "1875/1875 [==============================] - 2s 1ms/step - loss: 1.6064 - accuracy: 0.4442 - val_loss: 1.6046 - val_accuracy: 0.4522\n",
      "Epoch 17/100\n",
      "1875/1875 [==============================] - 2s 1ms/step - loss: 1.6061 - accuracy: 0.4435 - val_loss: 1.6044 - val_accuracy: 0.4528\n",
      "Epoch 18/100\n",
      "1875/1875 [==============================] - 2s 1ms/step - loss: 1.6059 - accuracy: 0.4444 - val_loss: 1.6038 - val_accuracy: 0.4526\n",
      "Epoch 19/100\n",
      "1875/1875 [==============================] - 2s 1ms/step - loss: 1.6054 - accuracy: 0.4447 - val_loss: 1.6030 - val_accuracy: 0.4533\n",
      "Epoch 20/100\n",
      "1875/1875 [==============================] - 2s 1ms/step - loss: 1.6053 - accuracy: 0.4454 - val_loss: 1.6031 - val_accuracy: 0.4527\n",
      "Epoch 21/100\n",
      "1875/1875 [==============================] - 2s 1ms/step - loss: 1.6051 - accuracy: 0.4451 - val_loss: 1.6031 - val_accuracy: 0.4524\n",
      "Epoch 22/100\n",
      "1875/1875 [==============================] - 2s 1ms/step - loss: 1.6051 - accuracy: 0.4445 - val_loss: 1.6038 - val_accuracy: 0.4548\n",
      "Epoch 23/100\n",
      "1875/1875 [==============================] - 2s 1ms/step - loss: 1.6052 - accuracy: 0.4450 - val_loss: 1.6013 - val_accuracy: 0.4522\n",
      "Epoch 24/100\n",
      "1875/1875 [==============================] - 2s 1ms/step - loss: 1.6049 - accuracy: 0.4445 - val_loss: 1.6018 - val_accuracy: 0.4505\n",
      "Epoch 25/100\n",
      "1875/1875 [==============================] - 2s 1ms/step - loss: 1.6045 - accuracy: 0.4452 - val_loss: 1.6019 - val_accuracy: 0.4538\n",
      "Epoch 26/100\n",
      "1875/1875 [==============================] - 2s 1ms/step - loss: 1.6045 - accuracy: 0.4453 - val_loss: 1.6028 - val_accuracy: 0.4518\n",
      "Epoch 27/100\n",
      "1875/1875 [==============================] - 2s 1ms/step - loss: 1.6044 - accuracy: 0.4450 - val_loss: 1.6019 - val_accuracy: 0.4523\n",
      "Epoch 28/100\n",
      "1875/1875 [==============================] - 2s 1ms/step - loss: 1.6043 - accuracy: 0.4465 - val_loss: 1.6016 - val_accuracy: 0.4544\n",
      "Epoch 29/100\n",
      "1875/1875 [==============================] - 2s 1ms/step - loss: 1.6044 - accuracy: 0.4453 - val_loss: 1.6004 - val_accuracy: 0.4525\n",
      "Epoch 30/100\n",
      "1875/1875 [==============================] - 2s 1ms/step - loss: 1.6042 - accuracy: 0.4449 - val_loss: 1.6021 - val_accuracy: 0.4506\n",
      "Epoch 31/100\n",
      "1875/1875 [==============================] - 2s 1ms/step - loss: 1.6042 - accuracy: 0.4453 - val_loss: 1.6002 - val_accuracy: 0.4534\n",
      "Epoch 32/100\n",
      "1875/1875 [==============================] - 2s 1ms/step - loss: 1.6039 - accuracy: 0.4461 - val_loss: 1.6019 - val_accuracy: 0.4520\n",
      "Epoch 33/100\n",
      "1875/1875 [==============================] - 2s 1ms/step - loss: 1.6038 - accuracy: 0.4446 - val_loss: 1.6002 - val_accuracy: 0.4541\n",
      "Epoch 34/100\n",
      "1875/1875 [==============================] - 2s 1ms/step - loss: 1.6036 - accuracy: 0.4455 - val_loss: 1.6022 - val_accuracy: 0.4541\n",
      "Epoch 35/100\n",
      "1875/1875 [==============================] - 2s 1ms/step - loss: 1.6036 - accuracy: 0.4457 - val_loss: 1.6006 - val_accuracy: 0.4563\n",
      "Epoch 36/100\n",
      "1875/1875 [==============================] - 2s 1ms/step - loss: 1.6036 - accuracy: 0.4449 - val_loss: 1.6022 - val_accuracy: 0.4549\n",
      "Epoch 37/100\n",
      "1875/1875 [==============================] - 2s 1ms/step - loss: 1.6036 - accuracy: 0.4450 - val_loss: 1.6010 - val_accuracy: 0.4528\n",
      "Epoch 38/100\n",
      "1875/1875 [==============================] - 2s 1ms/step - loss: 1.6035 - accuracy: 0.4452 - val_loss: 1.5995 - val_accuracy: 0.4561\n",
      "Epoch 39/100\n",
      "1875/1875 [==============================] - 2s 1ms/step - loss: 1.6034 - accuracy: 0.4458 - val_loss: 1.6019 - val_accuracy: 0.4557\n",
      "Epoch 40/100\n",
      "1875/1875 [==============================] - 2s 1ms/step - loss: 1.6033 - accuracy: 0.4457 - val_loss: 1.6009 - val_accuracy: 0.4544\n",
      "Epoch 41/100\n",
      "1875/1875 [==============================] - 2s 1ms/step - loss: 1.6030 - accuracy: 0.4457 - val_loss: 1.6008 - val_accuracy: 0.4530\n",
      "Epoch 42/100\n",
      "1875/1875 [==============================] - 2s 1ms/step - loss: 1.6032 - accuracy: 0.4460 - val_loss: 1.5996 - val_accuracy: 0.4548\n",
      "Epoch 43/100\n",
      "1875/1875 [==============================] - 2s 1ms/step - loss: 1.6031 - accuracy: 0.4463 - val_loss: 1.5995 - val_accuracy: 0.4544\n",
      "Epoch 44/100\n",
      "1875/1875 [==============================] - 2s 1ms/step - loss: 1.6031 - accuracy: 0.4457 - val_loss: 1.5988 - val_accuracy: 0.4524\n",
      "Epoch 45/100\n",
      "1875/1875 [==============================] - 2s 1ms/step - loss: 1.6031 - accuracy: 0.4454 - val_loss: 1.6005 - val_accuracy: 0.4528\n",
      "Epoch 46/100\n",
      "1875/1875 [==============================] - 2s 1ms/step - loss: 1.6031 - accuracy: 0.4456 - val_loss: 1.5996 - val_accuracy: 0.4528\n",
      "Epoch 47/100\n",
      "1875/1875 [==============================] - 2s 1ms/step - loss: 1.6030 - accuracy: 0.4452 - val_loss: 1.5997 - val_accuracy: 0.4528\n",
      "Epoch 48/100\n",
      "1875/1875 [==============================] - 2s 1ms/step - loss: 1.6029 - accuracy: 0.4459 - val_loss: 1.6006 - val_accuracy: 0.4521\n",
      "Epoch 49/100\n",
      "1875/1875 [==============================] - 2s 1ms/step - loss: 1.6030 - accuracy: 0.4463 - val_loss: 1.6009 - val_accuracy: 0.4552\n",
      "Epoch 50/100\n",
      "1875/1875 [==============================] - 2s 1ms/step - loss: 1.6028 - accuracy: 0.4457 - val_loss: 1.6006 - val_accuracy: 0.4560\n",
      "Epoch 51/100\n",
      "1875/1875 [==============================] - 2s 1ms/step - loss: 1.6030 - accuracy: 0.4453 - val_loss: 1.6002 - val_accuracy: 0.4546\n",
      "Epoch 52/100\n",
      "1875/1875 [==============================] - 2s 1ms/step - loss: 1.6026 - accuracy: 0.4458 - val_loss: 1.5982 - val_accuracy: 0.4546\n",
      "Epoch 53/100\n",
      "1875/1875 [==============================] - 2s 1ms/step - loss: 1.6029 - accuracy: 0.4463 - val_loss: 1.5996 - val_accuracy: 0.4523\n",
      "Epoch 54/100\n",
      "1875/1875 [==============================] - 2s 1ms/step - loss: 1.6028 - accuracy: 0.4446 - val_loss: 1.6005 - val_accuracy: 0.4518\n",
      "Epoch 55/100\n",
      "1875/1875 [==============================] - 2s 1ms/step - loss: 1.6027 - accuracy: 0.4455 - val_loss: 1.5988 - val_accuracy: 0.4520\n",
      "Epoch 56/100\n",
      "1875/1875 [==============================] - 2s 1ms/step - loss: 1.6026 - accuracy: 0.4465 - val_loss: 1.6010 - val_accuracy: 0.4506\n",
      "Epoch 57/100\n",
      "1875/1875 [==============================] - 2s 1ms/step - loss: 1.6026 - accuracy: 0.4455 - val_loss: 1.5987 - val_accuracy: 0.4523\n",
      "Epoch 58/100\n",
      "1875/1875 [==============================] - 2s 1ms/step - loss: 1.6026 - accuracy: 0.4454 - val_loss: 1.5983 - val_accuracy: 0.4522\n",
      "Epoch 59/100\n",
      "1875/1875 [==============================] - 2s 1ms/step - loss: 1.6025 - accuracy: 0.4451 - val_loss: 1.5992 - val_accuracy: 0.4524\n",
      "Epoch 60/100\n",
      "1875/1875 [==============================] - 2s 1ms/step - loss: 1.6024 - accuracy: 0.4458 - val_loss: 1.6002 - val_accuracy: 0.4555\n",
      "Epoch 61/100\n",
      "1875/1875 [==============================] - 2s 1ms/step - loss: 1.6026 - accuracy: 0.4454 - val_loss: 1.5989 - val_accuracy: 0.4520\n",
      "Epoch 62/100\n",
      "1875/1875 [==============================] - 2s 1ms/step - loss: 1.6025 - accuracy: 0.4467 - val_loss: 1.5983 - val_accuracy: 0.4541\n",
      "Epoch 63/100\n",
      "1875/1875 [==============================] - 2s 1ms/step - loss: 1.6026 - accuracy: 0.4455 - val_loss: 1.5988 - val_accuracy: 0.4536\n",
      "Epoch 64/100\n",
      "1875/1875 [==============================] - 2s 1ms/step - loss: 1.6024 - accuracy: 0.4465 - val_loss: 1.6003 - val_accuracy: 0.4525\n",
      "Epoch 65/100\n",
      "1875/1875 [==============================] - 2s 1ms/step - loss: 1.6026 - accuracy: 0.4463 - val_loss: 1.5982 - val_accuracy: 0.4531\n",
      "Epoch 66/100\n",
      "1875/1875 [==============================] - 2s 1ms/step - loss: 1.6022 - accuracy: 0.4466 - val_loss: 1.5992 - val_accuracy: 0.4522\n",
      "Epoch 67/100\n",
      "1875/1875 [==============================] - 2s 1ms/step - loss: 1.6022 - accuracy: 0.4468 - val_loss: 1.5983 - val_accuracy: 0.4533\n",
      "Epoch 68/100\n",
      "1875/1875 [==============================] - 2s 1ms/step - loss: 1.6022 - accuracy: 0.4463 - val_loss: 1.5998 - val_accuracy: 0.4535\n",
      "Epoch 69/100\n",
      "1875/1875 [==============================] - 2s 1ms/step - loss: 1.6022 - accuracy: 0.4455 - val_loss: 1.5996 - val_accuracy: 0.4518\n",
      "Epoch 70/100\n",
      "1875/1875 [==============================] - 2s 1ms/step - loss: 1.6023 - accuracy: 0.4465 - val_loss: 1.5987 - val_accuracy: 0.4539\n",
      "Epoch 71/100\n",
      "1875/1875 [==============================] - 2s 1ms/step - loss: 1.6023 - accuracy: 0.4462 - val_loss: 1.5987 - val_accuracy: 0.4512\n",
      "Epoch 72/100\n",
      "1875/1875 [==============================] - 2s 1ms/step - loss: 1.6023 - accuracy: 0.4468 - val_loss: 1.5979 - val_accuracy: 0.4545\n",
      "Epoch 73/100\n",
      "1875/1875 [==============================] - 2s 1ms/step - loss: 1.6023 - accuracy: 0.4467 - val_loss: 1.5978 - val_accuracy: 0.4514\n",
      "Epoch 74/100\n",
      "1875/1875 [==============================] - 2s 1ms/step - loss: 1.6018 - accuracy: 0.4465 - val_loss: 1.6006 - val_accuracy: 0.4509\n",
      "Epoch 75/100\n",
      "1875/1875 [==============================] - 2s 1ms/step - loss: 1.6021 - accuracy: 0.4464 - val_loss: 1.5984 - val_accuracy: 0.4506\n",
      "Epoch 76/100\n",
      "1875/1875 [==============================] - 2s 1ms/step - loss: 1.6020 - accuracy: 0.4456 - val_loss: 1.5991 - val_accuracy: 0.4499\n",
      "Epoch 77/100\n",
      "1875/1875 [==============================] - 2s 1ms/step - loss: 1.6020 - accuracy: 0.4469 - val_loss: 1.5982 - val_accuracy: 0.4545\n",
      "Epoch 78/100\n",
      "1875/1875 [==============================] - 2s 1ms/step - loss: 1.6021 - accuracy: 0.4468 - val_loss: 1.5990 - val_accuracy: 0.4504\n",
      "Epoch 79/100\n",
      "1875/1875 [==============================] - 2s 1ms/step - loss: 1.6023 - accuracy: 0.4458 - val_loss: 1.5982 - val_accuracy: 0.4546\n",
      "Epoch 80/100\n",
      "1875/1875 [==============================] - 2s 1ms/step - loss: 1.6019 - accuracy: 0.4453 - val_loss: 1.6013 - val_accuracy: 0.4534\n",
      "Epoch 81/100\n",
      "1875/1875 [==============================] - 2s 1ms/step - loss: 1.6021 - accuracy: 0.4462 - val_loss: 1.5982 - val_accuracy: 0.4524\n",
      "Epoch 82/100\n",
      "1875/1875 [==============================] - 2s 1ms/step - loss: 1.6019 - accuracy: 0.4468 - val_loss: 1.5998 - val_accuracy: 0.4512\n",
      "Epoch 83/100\n",
      "1875/1875 [==============================] - 2s 1ms/step - loss: 1.6022 - accuracy: 0.4455 - val_loss: 1.5982 - val_accuracy: 0.4556\n",
      "Epoch 84/100\n",
      "1875/1875 [==============================] - 2s 1ms/step - loss: 1.6021 - accuracy: 0.4468 - val_loss: 1.5974 - val_accuracy: 0.4534\n",
      "Epoch 85/100\n",
      "1875/1875 [==============================] - 2s 1ms/step - loss: 1.6021 - accuracy: 0.4455 - val_loss: 1.5989 - val_accuracy: 0.4552\n",
      "Epoch 86/100\n",
      "1875/1875 [==============================] - 2s 1ms/step - loss: 1.6021 - accuracy: 0.4460 - val_loss: 1.5980 - val_accuracy: 0.4521\n",
      "Epoch 87/100\n",
      "1875/1875 [==============================] - 2s 1ms/step - loss: 1.6018 - accuracy: 0.4459 - val_loss: 1.5984 - val_accuracy: 0.4539\n",
      "Epoch 88/100\n",
      "1875/1875 [==============================] - 2s 1ms/step - loss: 1.6020 - accuracy: 0.4462 - val_loss: 1.5980 - val_accuracy: 0.4553\n",
      "Epoch 89/100\n",
      "1875/1875 [==============================] - 2s 1ms/step - loss: 1.6017 - accuracy: 0.4455 - val_loss: 1.5978 - val_accuracy: 0.4524\n",
      "Epoch 90/100\n",
      "1875/1875 [==============================] - 2s 1ms/step - loss: 1.6017 - accuracy: 0.4468 - val_loss: 1.5988 - val_accuracy: 0.4523\n",
      "Epoch 91/100\n",
      "1875/1875 [==============================] - 2s 1ms/step - loss: 1.6021 - accuracy: 0.4465 - val_loss: 1.5991 - val_accuracy: 0.4539\n",
      "Epoch 92/100\n",
      "1875/1875 [==============================] - 2s 1ms/step - loss: 1.6019 - accuracy: 0.4459 - val_loss: 1.5987 - val_accuracy: 0.4550\n",
      "Epoch 93/100\n",
      "1875/1875 [==============================] - 2s 1ms/step - loss: 1.6019 - accuracy: 0.4454 - val_loss: 1.5992 - val_accuracy: 0.4519\n",
      "Epoch 94/100\n",
      "1875/1875 [==============================] - 2s 1ms/step - loss: 1.6017 - accuracy: 0.4461 - val_loss: 1.5982 - val_accuracy: 0.4566\n",
      "Epoch 95/100\n",
      "1875/1875 [==============================] - 2s 1ms/step - loss: 1.6019 - accuracy: 0.4464 - val_loss: 1.5974 - val_accuracy: 0.4560\n",
      "Epoch 96/100\n",
      "1875/1875 [==============================] - 2s 1ms/step - loss: 1.6018 - accuracy: 0.4449 - val_loss: 1.5980 - val_accuracy: 0.4530\n",
      "Epoch 97/100\n",
      "1875/1875 [==============================] - 2s 1ms/step - loss: 1.6020 - accuracy: 0.4462 - val_loss: 1.5973 - val_accuracy: 0.4567\n",
      "Epoch 98/100\n",
      "1875/1875 [==============================] - 2s 1ms/step - loss: 1.6020 - accuracy: 0.4465 - val_loss: 1.5973 - val_accuracy: 0.4524\n",
      "Epoch 99/100\n",
      "1875/1875 [==============================] - 2s 1ms/step - loss: 1.6018 - accuracy: 0.4443 - val_loss: 1.5988 - val_accuracy: 0.4527\n",
      "Epoch 100/100\n",
      "1875/1875 [==============================] - 2s 1ms/step - loss: 1.6018 - accuracy: 0.4467 - val_loss: 1.5973 - val_accuracy: 0.4556\n"
     ]
    },
    {
     "data": {
      "text/plain": [
       "<keras.callbacks.History at 0x7f96e9d61570>"
      ]
     },
     "execution_count": 50,
     "metadata": {},
     "output_type": "execute_result"
    }
   ],
   "source": [
    "model.compile(\n",
    "    optimizer=\"adam\", \n",
    "    loss=tf.keras.losses.CategoricalCrossentropy(from_logits=True), \n",
    "    metrics=[\"accuracy\"]\n",
    ")\n",
    "\n",
    "model.fit(\n",
    "    x_train, \n",
    "    y_train, \n",
    "    batch_size=32, \n",
    "    epochs=100, \n",
    "    validation_data=(x_test, y_test)\n",
    ")"
   ]
  },
  {
   "cell_type": "code",
   "execution_count": 51,
   "id": "2871aaf1-5399-418e-98a9-51699363d46f",
   "metadata": {
    "jupyter": {
     "source_hidden": true
    }
   },
   "outputs": [
    {
     "name": "stdout",
     "output_type": "stream",
     "text": [
      "Model: \"sequential_10\"\n",
      "_________________________________________________________________\n",
      " Layer (type)                Output Shape              Param #   \n",
      "=================================================================\n",
      " spiking_layer (SpikingLayer  (None, 64)               50176     \n",
      " )                                                               \n",
      "                                                                 \n",
      " spiking_layer_1 (SpikingLay  (None, 32)               2048      \n",
      " er)                                                             \n",
      "                                                                 \n",
      " spiking_layer_2 (SpikingLay  (None, 10)               320       \n",
      " er)                                                             \n",
      "                                                                 \n",
      "=================================================================\n",
      "Total params: 52,544\n",
      "Trainable params: 52,544\n",
      "Non-trainable params: 0\n",
      "_________________________________________________________________\n"
     ]
    }
   ],
   "source": [
    "model.summary()"
   ]
  },
  {
   "cell_type": "code",
   "execution_count": 52,
   "id": "c56441a0-4aa2-4727-90f9-d2775efdc75a",
   "metadata": {},
   "outputs": [],
   "source": [
    "model.save(\"SNN_MNIST.h5\")"
   ]
  },
  {
   "cell_type": "code",
   "execution_count": 53,
   "id": "f0c539d8-fb79-4051-a254-0e4c817d69ab",
   "metadata": {},
   "outputs": [
    {
     "name": "stdout",
     "output_type": "stream",
     "text": [
      "313/313 [==============================] - 0s 912us/step - loss: 1.5973 - accuracy: 0.4556\n",
      "Test Loss: 1.5973379611968994\n",
      "Test Accuracy: 0.45559999346733093\n"
     ]
    }
   ],
   "source": [
    "test_loss, test_acc = model.evaluate(x_test, y_test)\n",
    "print(\"Test Loss:\", test_loss)\n",
    "print(\"Test Accuracy:\", test_acc)"
   ]
  },
  {
   "cell_type": "markdown",
   "id": "3494f7a0-ae32-4fb7-9ebc-edc71e7c2335",
   "metadata": {},
   "source": [
    "# hls4ml Config Part"
   ]
  },
  {
   "cell_type": "code",
   "execution_count": 36,
   "id": "ee21fefa-1798-4130-9746-f4d19f46bea3",
   "metadata": {},
   "outputs": [],
   "source": [
    "import hls4ml\n",
    "\n",
    "class SNNLayer(hls4ml.model.layers.Layer):\n",
    "\n",
    "    def initialize(self):\n",
    "        inp = self.get_input_variable()\n",
    "        shape = inp.shape\n",
    "        dims = inp.dim_names\n",
    "        self.add_output_variavle(shape, dims)"
   ]
  },
  {
   "cell_type": "code",
   "execution_count": 35,
   "id": "12950241-e059-424d-b3e4-7da7d5b36c52",
   "metadata": {},
   "outputs": [],
   "source": [
    "def parse_reverse_layer(keras_layer, input_names, input_shapes, data_reader):\n",
    "    layer = {}\n",
    "    layer['class_name'] = 'SNNLayer'\n",
    "    layer['name'] = keras_layer['config']['name']\n",
    "    layer['n_in'] = input_shapes[0][1]\n",
    "\n",
    "    if input_names is not None:\n",
    "        layer['inputs'] = input_names\n",
    "\n",
    "    return layer, [shape for shape in input_shapes[0]]"
   ]
  },
  {
   "cell_type": "code",
   "execution_count": null,
   "id": "5f27556c-7dff-440d-9404-2974acc4418f",
   "metadata": {},
   "outputs": [],
   "source": []
  }
 ],
 "metadata": {
  "kernelspec": {
   "display_name": "Python 3 (ipykernel)",
   "language": "python",
   "name": "python3"
  },
  "language_info": {
   "codemirror_mode": {
    "name": "ipython",
    "version": 3
   },
   "file_extension": ".py",
   "mimetype": "text/x-python",
   "name": "python",
   "nbconvert_exporter": "python",
   "pygments_lexer": "ipython3",
   "version": "3.10.11"
  }
 },
 "nbformat": 4,
 "nbformat_minor": 5
}

{
 "cells": [
  {
   "cell_type": "code",
   "execution_count": 1,
   "id": "00671b00-10b3-478a-9b85-4a57805e0ed2",
   "metadata": {},
   "outputs": [
    {
     "name": "stderr",
     "output_type": "stream",
     "text": [
      "2023-07-10 03:58:43.177680: I tensorflow/core/platform/cpu_feature_guard.cc:193] This TensorFlow binary is optimized with oneAPI Deep Neural Network Library (oneDNN) to use the following CPU instructions in performance-critical operations:  SSE4.1 SSE4.2 AVX AVX2 FMA\n",
      "To enable them in other operations, rebuild TensorFlow with the appropriate compiler flags.\n"
     ]
    }
   ],
   "source": [
    "import tensorflow as tf\n",
    "import numpy as np"
   ]
  },
  {
   "cell_type": "code",
   "execution_count": 2,
   "id": "963263e7-b67e-4046-bf9d-66a4ceb0b0f7",
   "metadata": {},
   "outputs": [],
   "source": [
    "class SpikingLayer(tf.keras.layers.Layer):\n",
    "    def __init__(self, num_neurons, **kwargs):\n",
    "        super(SpikingLayer, self).__init__(**kwargs)\n",
    "        self.num_neurons = num_neurons\n",
    "\n",
    "    def build(self, input_shape):\n",
    "        self.kernel = self.add_weight(\"kernel\", shape=[int(input_shape[-1]), self.num_neurons])\n",
    "        self.threshold = self.add_weight(\"threshold\", shape=[self.num_neurons])\n",
    "\n",
    "    def call(self, inputs):\n",
    "        # 计算输入与权重的点积\n",
    "        outputs = tf.matmul(inputs, self.kernel)\n",
    "        # 应用阈值函数\n",
    "        outputs = tf.nn.relu(outputs - self.threshold)\n",
    "        return outputs\n"
   ]
  },
  {
   "cell_type": "code",
   "execution_count": 3,
   "id": "bcc83f75-4fac-4a30-9d3d-5aa30f0a4148",
   "metadata": {},
   "outputs": [],
   "source": [
    "mnist = tf.keras.datasets.mnist\n",
    "(train_images, train_labels), (test_images, test_labels) = mnist.load_data()\n",
    "\n",
    "# 数据预处理\n",
    "train_images = train_images / 255.0\n",
    "test_images = test_images / 255.0\n"
   ]
  },
  {
   "cell_type": "code",
   "execution_count": 4,
   "id": "39fdbe5f-e117-4498-9293-61b9cf86b8e0",
   "metadata": {},
   "outputs": [
    {
     "name": "stderr",
     "output_type": "stream",
     "text": [
      "2023-07-10 03:58:45.135887: I tensorflow/core/platform/cpu_feature_guard.cc:193] This TensorFlow binary is optimized with oneAPI Deep Neural Network Library (oneDNN) to use the following CPU instructions in performance-critical operations:  SSE4.1 SSE4.2 AVX AVX2 FMA\n",
      "To enable them in other operations, rebuild TensorFlow with the appropriate compiler flags.\n"
     ]
    }
   ],
   "source": [
    "model = tf.keras.Sequential([\n",
    "    tf.keras.layers.Flatten(input_shape=(28, 28)),  # 将图像展平\n",
    "    SpikingLayer(4),\n",
    "    SpikingLayer(128),\n",
    "    SpikingLayer(16), \n",
    "    tf.keras.layers.Dense(10) \n",
    "])\n"
   ]
  },
  {
   "cell_type": "code",
   "execution_count": 5,
   "id": "ce4d620c-8e50-4bd7-b416-9419f1d3d265",
   "metadata": {
    "scrolled": true
   },
   "outputs": [
    {
     "name": "stdout",
     "output_type": "stream",
     "text": [
      "Epoch 1/100\n",
      "6/6 [==============================] - 1s 51ms/step - loss: 2.2981 - accuracy: 0.1074 - val_loss: 2.2878 - val_accuracy: 0.1272\n",
      "Epoch 2/100\n",
      "6/6 [==============================] - 0s 18ms/step - loss: 2.2783 - accuracy: 0.1757 - val_loss: 2.2642 - val_accuracy: 0.2207\n",
      "Epoch 3/100\n",
      "6/6 [==============================] - 0s 18ms/step - loss: 2.2491 - accuracy: 0.2338 - val_loss: 2.2287 - val_accuracy: 0.2417\n",
      "Epoch 4/100\n",
      "6/6 [==============================] - 0s 15ms/step - loss: 2.2076 - accuracy: 0.2474 - val_loss: 2.1822 - val_accuracy: 0.2471\n",
      "Epoch 5/100\n",
      "6/6 [==============================] - 0s 16ms/step - loss: 2.1567 - accuracy: 0.2535 - val_loss: 2.1283 - val_accuracy: 0.2362\n",
      "Epoch 6/100\n",
      "6/6 [==============================] - 0s 16ms/step - loss: 2.1009 - accuracy: 0.2484 - val_loss: 2.0705 - val_accuracy: 0.2575\n",
      "Epoch 7/100\n",
      "6/6 [==============================] - 0s 17ms/step - loss: 2.0420 - accuracy: 0.2653 - val_loss: 2.0110 - val_accuracy: 0.2718\n",
      "Epoch 8/100\n",
      "6/6 [==============================] - 0s 16ms/step - loss: 1.9828 - accuracy: 0.2748 - val_loss: 1.9513 - val_accuracy: 0.2765\n",
      "Epoch 9/100\n",
      "6/6 [==============================] - 0s 17ms/step - loss: 1.9228 - accuracy: 0.2796 - val_loss: 1.8891 - val_accuracy: 0.2851\n",
      "Epoch 10/100\n",
      "6/6 [==============================] - 0s 17ms/step - loss: 1.8614 - accuracy: 0.2961 - val_loss: 1.8275 - val_accuracy: 0.3209\n",
      "Epoch 11/100\n",
      "6/6 [==============================] - 0s 15ms/step - loss: 1.8026 - accuracy: 0.3306 - val_loss: 1.7701 - val_accuracy: 0.3376\n",
      "Epoch 12/100\n",
      "6/6 [==============================] - 0s 15ms/step - loss: 1.7473 - accuracy: 0.3428 - val_loss: 1.7165 - val_accuracy: 0.3452\n",
      "Epoch 13/100\n",
      "6/6 [==============================] - 0s 16ms/step - loss: 1.6953 - accuracy: 0.3477 - val_loss: 1.6636 - val_accuracy: 0.3516\n",
      "Epoch 14/100\n",
      "6/6 [==============================] - 0s 16ms/step - loss: 1.6435 - accuracy: 0.3845 - val_loss: 1.6100 - val_accuracy: 0.4161\n",
      "Epoch 15/100\n",
      "6/6 [==============================] - 0s 16ms/step - loss: 1.5891 - accuracy: 0.4311 - val_loss: 1.5529 - val_accuracy: 0.4572\n",
      "Epoch 16/100\n",
      "6/6 [==============================] - 0s 16ms/step - loss: 1.5312 - accuracy: 0.4717 - val_loss: 1.4924 - val_accuracy: 0.4920\n",
      "Epoch 17/100\n",
      "6/6 [==============================] - 0s 15ms/step - loss: 1.4720 - accuracy: 0.4958 - val_loss: 1.4330 - val_accuracy: 0.5040\n",
      "Epoch 18/100\n",
      "6/6 [==============================] - 0s 16ms/step - loss: 1.4149 - accuracy: 0.5078 - val_loss: 1.3773 - val_accuracy: 0.5578\n",
      "Epoch 19/100\n",
      "6/6 [==============================] - 0s 16ms/step - loss: 1.3609 - accuracy: 0.5598 - val_loss: 1.3249 - val_accuracy: 0.5695\n",
      "Epoch 20/100\n",
      "6/6 [==============================] - 0s 15ms/step - loss: 1.3106 - accuracy: 0.5721 - val_loss: 1.2753 - val_accuracy: 0.5798\n",
      "Epoch 21/100\n",
      "6/6 [==============================] - 0s 16ms/step - loss: 1.2622 - accuracy: 0.5836 - val_loss: 1.2277 - val_accuracy: 0.5933\n",
      "Epoch 22/100\n",
      "6/6 [==============================] - 0s 16ms/step - loss: 1.2162 - accuracy: 0.5989 - val_loss: 1.1845 - val_accuracy: 0.6086\n",
      "Epoch 23/100\n",
      "6/6 [==============================] - 0s 15ms/step - loss: 1.1739 - accuracy: 0.6139 - val_loss: 1.1451 - val_accuracy: 0.6237\n",
      "Epoch 24/100\n",
      "6/6 [==============================] - 0s 16ms/step - loss: 1.1345 - accuracy: 0.6302 - val_loss: 1.1084 - val_accuracy: 0.6409\n",
      "Epoch 25/100\n",
      "6/6 [==============================] - 0s 18ms/step - loss: 1.0983 - accuracy: 0.6454 - val_loss: 1.0742 - val_accuracy: 0.6539\n",
      "Epoch 26/100\n",
      "6/6 [==============================] - 0s 15ms/step - loss: 1.0643 - accuracy: 0.6590 - val_loss: 1.0412 - val_accuracy: 0.6698\n",
      "Epoch 27/100\n",
      "6/6 [==============================] - 0s 16ms/step - loss: 1.0306 - accuracy: 0.6725 - val_loss: 1.0085 - val_accuracy: 0.6876\n",
      "Epoch 28/100\n",
      "6/6 [==============================] - 0s 15ms/step - loss: 0.9954 - accuracy: 0.6900 - val_loss: 0.9719 - val_accuracy: 0.7057\n",
      "Epoch 29/100\n",
      "6/6 [==============================] - 0s 17ms/step - loss: 0.9563 - accuracy: 0.7082 - val_loss: 0.9321 - val_accuracy: 0.7253\n",
      "Epoch 30/100\n",
      "6/6 [==============================] - 0s 16ms/step - loss: 0.9134 - accuracy: 0.7289 - val_loss: 0.8879 - val_accuracy: 0.7411\n",
      "Epoch 31/100\n",
      "6/6 [==============================] - 0s 16ms/step - loss: 0.8680 - accuracy: 0.7459 - val_loss: 0.8434 - val_accuracy: 0.7576\n",
      "Epoch 32/100\n",
      "6/6 [==============================] - 0s 17ms/step - loss: 0.8246 - accuracy: 0.7614 - val_loss: 0.8015 - val_accuracy: 0.7718\n",
      "Epoch 33/100\n",
      "6/6 [==============================] - 0s 16ms/step - loss: 0.7845 - accuracy: 0.7735 - val_loss: 0.7642 - val_accuracy: 0.7820\n",
      "Epoch 34/100\n",
      "6/6 [==============================] - 0s 16ms/step - loss: 0.7498 - accuracy: 0.7831 - val_loss: 0.7333 - val_accuracy: 0.7917\n",
      "Epoch 35/100\n",
      "6/6 [==============================] - 0s 15ms/step - loss: 0.7215 - accuracy: 0.7899 - val_loss: 0.7079 - val_accuracy: 0.7992\n",
      "Epoch 36/100\n",
      "6/6 [==============================] - 0s 15ms/step - loss: 0.6977 - accuracy: 0.7964 - val_loss: 0.6856 - val_accuracy: 0.8034\n",
      "Epoch 37/100\n",
      "6/6 [==============================] - 0s 15ms/step - loss: 0.6771 - accuracy: 0.8013 - val_loss: 0.6680 - val_accuracy: 0.8107\n",
      "Epoch 38/100\n",
      "6/6 [==============================] - 0s 15ms/step - loss: 0.6592 - accuracy: 0.8061 - val_loss: 0.6475 - val_accuracy: 0.8148\n",
      "Epoch 39/100\n",
      "6/6 [==============================] - 0s 15ms/step - loss: 0.6414 - accuracy: 0.8119 - val_loss: 0.6320 - val_accuracy: 0.8197\n",
      "Epoch 40/100\n",
      "6/6 [==============================] - 0s 15ms/step - loss: 0.6256 - accuracy: 0.8159 - val_loss: 0.6168 - val_accuracy: 0.8215\n",
      "Epoch 41/100\n",
      "6/6 [==============================] - 0s 15ms/step - loss: 0.6111 - accuracy: 0.8203 - val_loss: 0.6038 - val_accuracy: 0.8259\n",
      "Epoch 42/100\n",
      "6/6 [==============================] - 0s 16ms/step - loss: 0.5978 - accuracy: 0.8245 - val_loss: 0.5909 - val_accuracy: 0.8303\n",
      "Epoch 43/100\n",
      "6/6 [==============================] - 0s 15ms/step - loss: 0.5852 - accuracy: 0.8279 - val_loss: 0.5818 - val_accuracy: 0.8337\n",
      "Epoch 44/100\n",
      "6/6 [==============================] - 0s 15ms/step - loss: 0.5746 - accuracy: 0.8306 - val_loss: 0.5735 - val_accuracy: 0.8343\n",
      "Epoch 45/100\n",
      "6/6 [==============================] - 0s 15ms/step - loss: 0.5651 - accuracy: 0.8330 - val_loss: 0.5647 - val_accuracy: 0.8366\n",
      "Epoch 46/100\n",
      "6/6 [==============================] - 0s 15ms/step - loss: 0.5566 - accuracy: 0.8349 - val_loss: 0.5571 - val_accuracy: 0.8371\n",
      "Epoch 47/100\n",
      "6/6 [==============================] - 0s 16ms/step - loss: 0.5489 - accuracy: 0.8370 - val_loss: 0.5516 - val_accuracy: 0.8400\n",
      "Epoch 48/100\n",
      "6/6 [==============================] - 0s 15ms/step - loss: 0.5418 - accuracy: 0.8392 - val_loss: 0.5450 - val_accuracy: 0.8419\n",
      "Epoch 49/100\n",
      "6/6 [==============================] - 0s 17ms/step - loss: 0.5353 - accuracy: 0.8411 - val_loss: 0.5397 - val_accuracy: 0.8437\n",
      "Epoch 50/100\n",
      "6/6 [==============================] - 0s 15ms/step - loss: 0.5301 - accuracy: 0.8422 - val_loss: 0.5349 - val_accuracy: 0.8459\n",
      "Epoch 51/100\n",
      "6/6 [==============================] - 0s 15ms/step - loss: 0.5248 - accuracy: 0.8433 - val_loss: 0.5303 - val_accuracy: 0.8452\n",
      "Epoch 52/100\n",
      "6/6 [==============================] - 0s 15ms/step - loss: 0.5203 - accuracy: 0.8453 - val_loss: 0.5263 - val_accuracy: 0.8460\n",
      "Epoch 53/100\n",
      "6/6 [==============================] - 0s 15ms/step - loss: 0.5156 - accuracy: 0.8465 - val_loss: 0.5222 - val_accuracy: 0.8467\n",
      "Epoch 54/100\n",
      "6/6 [==============================] - 0s 15ms/step - loss: 0.5118 - accuracy: 0.8480 - val_loss: 0.5180 - val_accuracy: 0.8488\n",
      "Epoch 55/100\n",
      "6/6 [==============================] - 0s 15ms/step - loss: 0.5076 - accuracy: 0.8487 - val_loss: 0.5145 - val_accuracy: 0.8501\n",
      "Epoch 56/100\n",
      "6/6 [==============================] - 0s 16ms/step - loss: 0.5036 - accuracy: 0.8499 - val_loss: 0.5106 - val_accuracy: 0.8515\n",
      "Epoch 57/100\n",
      "6/6 [==============================] - 0s 15ms/step - loss: 0.4996 - accuracy: 0.8513 - val_loss: 0.5081 - val_accuracy: 0.8520\n",
      "Epoch 58/100\n",
      "6/6 [==============================] - 0s 16ms/step - loss: 0.4964 - accuracy: 0.8516 - val_loss: 0.5040 - val_accuracy: 0.8520\n",
      "Epoch 59/100\n",
      "6/6 [==============================] - 0s 15ms/step - loss: 0.4931 - accuracy: 0.8526 - val_loss: 0.5018 - val_accuracy: 0.8517\n",
      "Epoch 60/100\n",
      "6/6 [==============================] - 0s 15ms/step - loss: 0.4898 - accuracy: 0.8533 - val_loss: 0.4984 - val_accuracy: 0.8515\n",
      "Epoch 61/100\n",
      "6/6 [==============================] - 0s 15ms/step - loss: 0.4871 - accuracy: 0.8546 - val_loss: 0.4961 - val_accuracy: 0.8530\n",
      "Epoch 62/100\n",
      "6/6 [==============================] - 0s 15ms/step - loss: 0.4839 - accuracy: 0.8560 - val_loss: 0.4929 - val_accuracy: 0.8560\n",
      "Epoch 63/100\n",
      "6/6 [==============================] - 0s 16ms/step - loss: 0.4810 - accuracy: 0.8562 - val_loss: 0.4901 - val_accuracy: 0.8559\n",
      "Epoch 64/100\n",
      "6/6 [==============================] - 0s 16ms/step - loss: 0.4782 - accuracy: 0.8572 - val_loss: 0.4870 - val_accuracy: 0.8560\n",
      "Epoch 65/100\n",
      "6/6 [==============================] - 0s 17ms/step - loss: 0.4757 - accuracy: 0.8573 - val_loss: 0.4854 - val_accuracy: 0.8574\n",
      "Epoch 66/100\n",
      "6/6 [==============================] - 0s 15ms/step - loss: 0.4732 - accuracy: 0.8580 - val_loss: 0.4817 - val_accuracy: 0.8576\n",
      "Epoch 67/100\n",
      "6/6 [==============================] - 0s 15ms/step - loss: 0.4707 - accuracy: 0.8593 - val_loss: 0.4807 - val_accuracy: 0.8575\n",
      "Epoch 68/100\n",
      "6/6 [==============================] - 0s 15ms/step - loss: 0.4686 - accuracy: 0.8595 - val_loss: 0.4776 - val_accuracy: 0.8580\n",
      "Epoch 69/100\n",
      "6/6 [==============================] - 0s 16ms/step - loss: 0.4660 - accuracy: 0.8597 - val_loss: 0.4762 - val_accuracy: 0.8588\n",
      "Epoch 70/100\n",
      "6/6 [==============================] - 0s 16ms/step - loss: 0.4640 - accuracy: 0.8610 - val_loss: 0.4742 - val_accuracy: 0.8572\n",
      "Epoch 71/100\n",
      "6/6 [==============================] - 0s 15ms/step - loss: 0.4621 - accuracy: 0.8614 - val_loss: 0.4716 - val_accuracy: 0.8593\n",
      "Epoch 72/100\n",
      "6/6 [==============================] - 0s 15ms/step - loss: 0.4593 - accuracy: 0.8619 - val_loss: 0.4701 - val_accuracy: 0.8589\n",
      "Epoch 73/100\n",
      "6/6 [==============================] - 0s 15ms/step - loss: 0.4573 - accuracy: 0.8625 - val_loss: 0.4685 - val_accuracy: 0.8590\n",
      "Epoch 74/100\n",
      "6/6 [==============================] - 0s 15ms/step - loss: 0.4550 - accuracy: 0.8627 - val_loss: 0.4659 - val_accuracy: 0.8607\n",
      "Epoch 75/100\n",
      "6/6 [==============================] - 0s 15ms/step - loss: 0.4522 - accuracy: 0.8641 - val_loss: 0.4635 - val_accuracy: 0.8607\n",
      "Epoch 76/100\n",
      "6/6 [==============================] - 0s 15ms/step - loss: 0.4498 - accuracy: 0.8648 - val_loss: 0.4612 - val_accuracy: 0.8625\n",
      "Epoch 77/100\n",
      "6/6 [==============================] - 0s 15ms/step - loss: 0.4475 - accuracy: 0.8659 - val_loss: 0.4586 - val_accuracy: 0.8627\n",
      "Epoch 78/100\n",
      "6/6 [==============================] - 0s 16ms/step - loss: 0.4452 - accuracy: 0.8665 - val_loss: 0.4572 - val_accuracy: 0.8633\n",
      "Epoch 79/100\n",
      "6/6 [==============================] - 0s 15ms/step - loss: 0.4433 - accuracy: 0.8672 - val_loss: 0.4555 - val_accuracy: 0.8646\n",
      "Epoch 80/100\n",
      "6/6 [==============================] - 0s 15ms/step - loss: 0.4412 - accuracy: 0.8677 - val_loss: 0.4541 - val_accuracy: 0.8644\n",
      "Epoch 81/100\n",
      "6/6 [==============================] - 0s 15ms/step - loss: 0.4394 - accuracy: 0.8682 - val_loss: 0.4523 - val_accuracy: 0.8640\n",
      "Epoch 82/100\n",
      "6/6 [==============================] - 0s 15ms/step - loss: 0.4372 - accuracy: 0.8688 - val_loss: 0.4495 - val_accuracy: 0.8659\n",
      "Epoch 83/100\n",
      "6/6 [==============================] - 0s 15ms/step - loss: 0.4354 - accuracy: 0.8696 - val_loss: 0.4493 - val_accuracy: 0.8662\n",
      "Epoch 84/100\n",
      "6/6 [==============================] - 0s 16ms/step - loss: 0.4336 - accuracy: 0.8703 - val_loss: 0.4463 - val_accuracy: 0.8666\n",
      "Epoch 85/100\n",
      "6/6 [==============================] - 0s 15ms/step - loss: 0.4319 - accuracy: 0.8702 - val_loss: 0.4462 - val_accuracy: 0.8673\n",
      "Epoch 86/100\n",
      "6/6 [==============================] - 0s 15ms/step - loss: 0.4310 - accuracy: 0.8705 - val_loss: 0.4441 - val_accuracy: 0.8681\n",
      "Epoch 87/100\n",
      "6/6 [==============================] - 0s 16ms/step - loss: 0.4294 - accuracy: 0.8711 - val_loss: 0.4425 - val_accuracy: 0.8673\n",
      "Epoch 88/100\n",
      "6/6 [==============================] - 0s 15ms/step - loss: 0.4271 - accuracy: 0.8713 - val_loss: 0.4423 - val_accuracy: 0.8672\n",
      "Epoch 89/100\n",
      "6/6 [==============================] - 0s 15ms/step - loss: 0.4257 - accuracy: 0.8723 - val_loss: 0.4400 - val_accuracy: 0.8687\n",
      "Epoch 90/100\n",
      "6/6 [==============================] - 0s 15ms/step - loss: 0.4240 - accuracy: 0.8721 - val_loss: 0.4392 - val_accuracy: 0.8697\n",
      "Epoch 91/100\n",
      "6/6 [==============================] - 0s 15ms/step - loss: 0.4229 - accuracy: 0.8727 - val_loss: 0.4387 - val_accuracy: 0.8674\n",
      "Epoch 92/100\n",
      "6/6 [==============================] - 0s 15ms/step - loss: 0.4214 - accuracy: 0.8730 - val_loss: 0.4369 - val_accuracy: 0.8696\n",
      "Epoch 93/100\n",
      "6/6 [==============================] - 0s 16ms/step - loss: 0.4197 - accuracy: 0.8740 - val_loss: 0.4355 - val_accuracy: 0.8702\n",
      "Epoch 94/100\n",
      "6/6 [==============================] - 0s 15ms/step - loss: 0.4182 - accuracy: 0.8738 - val_loss: 0.4348 - val_accuracy: 0.8702\n",
      "Epoch 95/100\n",
      "6/6 [==============================] - 0s 15ms/step - loss: 0.4171 - accuracy: 0.8748 - val_loss: 0.4321 - val_accuracy: 0.8706\n",
      "Epoch 96/100\n",
      "6/6 [==============================] - 0s 15ms/step - loss: 0.4160 - accuracy: 0.8742 - val_loss: 0.4323 - val_accuracy: 0.8708\n",
      "Epoch 97/100\n",
      "6/6 [==============================] - 0s 15ms/step - loss: 0.4154 - accuracy: 0.8750 - val_loss: 0.4319 - val_accuracy: 0.8713\n",
      "Epoch 98/100\n",
      "6/6 [==============================] - 0s 13ms/step - loss: 0.4146 - accuracy: 0.8743 - val_loss: 0.4311 - val_accuracy: 0.8711\n",
      "Epoch 99/100\n",
      "6/6 [==============================] - 0s 14ms/step - loss: 0.4127 - accuracy: 0.8759 - val_loss: 0.4288 - val_accuracy: 0.8712\n",
      "Epoch 100/100\n",
      "6/6 [==============================] - 0s 14ms/step - loss: 0.4110 - accuracy: 0.8763 - val_loss: 0.4286 - val_accuracy: 0.8710\n"
     ]
    },
    {
     "data": {
      "text/plain": [
       "<keras.callbacks.History at 0x7fa57840e8c0>"
      ]
     },
     "execution_count": 5,
     "metadata": {},
     "output_type": "execute_result"
    }
   ],
   "source": [
    "model.compile(optimizer='adam',\n",
    "              loss=tf.keras.losses.SparseCategoricalCrossentropy(from_logits=True),\n",
    "              metrics=['accuracy'])\n",
    "\n",
    "model.fit(\n",
    "    train_images, \n",
    "    train_labels, \n",
    "    epochs=100,\n",
    "    batch_size=10240,\n",
    "    validation_data=(test_images, test_labels),\n",
    "    verbose = 1\n",
    ")\n"
   ]
  },
  {
   "cell_type": "code",
   "execution_count": 6,
   "id": "c3163929-e7da-4182-aef6-3f18cd3cc75a",
   "metadata": {},
   "outputs": [
    {
     "name": "stdout",
     "output_type": "stream",
     "text": [
      "313/313 [==============================] - 0s 712us/step - loss: 0.4286 - accuracy: 0.8710\n",
      "Test accuracy: 0.8709999918937683\n"
     ]
    }
   ],
   "source": [
    "test_loss, test_acc = model.evaluate(test_images, test_labels)\n",
    "print('Test accuracy:', test_acc)\n"
   ]
  },
  {
   "cell_type": "code",
   "execution_count": 7,
   "id": "0fcaf782-c8fe-4396-839f-95bebf7c6cb9",
   "metadata": {},
   "outputs": [
    {
     "name": "stdout",
     "output_type": "stream",
     "text": [
      "Model: \"sequential\"\n",
      "_________________________________________________________________\n",
      " Layer (type)                Output Shape              Param #   \n",
      "=================================================================\n",
      " flatten (Flatten)           (None, 784)               0         \n",
      "                                                                 \n",
      " spiking_layer (SpikingLayer  (None, 4)                3140      \n",
      " )                                                               \n",
      "                                                                 \n",
      " spiking_layer_1 (SpikingLay  (None, 128)              640       \n",
      " er)                                                             \n",
      "                                                                 \n",
      " spiking_layer_2 (SpikingLay  (None, 16)               2064      \n",
      " er)                                                             \n",
      "                                                                 \n",
      " dense (Dense)               (None, 10)                170       \n",
      "                                                                 \n",
      "=================================================================\n",
      "Total params: 6,014\n",
      "Trainable params: 6,014\n",
      "Non-trainable params: 0\n",
      "_________________________________________________________________\n"
     ]
    }
   ],
   "source": [
    "model.summary()"
   ]
  },
  {
   "cell_type": "code",
   "execution_count": 8,
   "id": "04358227-2965-4107-a466-99ffe341c529",
   "metadata": {},
   "outputs": [],
   "source": [
    "model.save(\"SNN_MNIST.h5\")"
   ]
  },
  {
   "cell_type": "code",
   "execution_count": null,
   "id": "f6dcf407-e5d7-4c5c-835b-4e3c55f19a72",
   "metadata": {},
   "outputs": [],
   "source": []
  }
 ],
 "metadata": {
  "kernelspec": {
   "display_name": "Python 3 (ipykernel)",
   "language": "python",
   "name": "python3"
  },
  "language_info": {
   "codemirror_mode": {
    "name": "ipython",
    "version": 3
   },
   "file_extension": ".py",
   "mimetype": "text/x-python",
   "name": "python",
   "nbconvert_exporter": "python",
   "pygments_lexer": "ipython3",
   "version": "3.10.11"
  }
 },
 "nbformat": 4,
 "nbformat_minor": 5
}
